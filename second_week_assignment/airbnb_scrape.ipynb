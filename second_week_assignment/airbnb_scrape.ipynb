{
 "cells": [
  {
   "cell_type": "code",
   "execution_count": 1,
   "id": "0ce8e647",
   "metadata": {},
   "outputs": [],
   "source": [
    "import pandas as pd\n",
    "from datetime import datetime\n",
    "import requests\n",
    "import time\n",
    "from requests_html import HTMLSession\n",
    "from PIL import Image\n",
    "from io import BytesIO\n",
    "\n",
    "from selenium import webdriver\n",
    "from selenium.webdriver.common.keys import Keys\n",
    "from selenium.webdriver.chrome.service import Service\n",
    "from selenium.webdriver.common.by import By\n",
    "from selenium.webdriver.support.ui import WebDriverWait\n",
    "from selenium.webdriver.support import expected_conditions as EC\n",
    "from IPython.display import display, clear_output"
   ]
  },
  {
   "cell_type": "code",
   "execution_count": 2,
   "id": "789933fc",
   "metadata": {},
   "outputs": [],
   "source": [
    "s=Service(\"chromedriver\")\n",
    "driver=webdriver.Chrome(service=s)"
   ]
  },
  {
   "cell_type": "code",
   "execution_count": 3,
   "id": "01fd462d",
   "metadata": {},
   "outputs": [],
   "source": [
    "driver.get(\"https://www.airbnb.com/?tab_id=home_tab&refinement_paths%5B%5D=%2Fhomes&search_mode=flex_destinations_search&flexible_trip_lengths%5B%5D=one_week&location_search=MIN_MAP_BOUNDS&price_filter_input_type=0&category_tag=Tag%3A7769&search_type=category_change\")"
   ]
  },
  {
   "cell_type": "code",
   "execution_count": 43,
   "id": "1ec4bade",
   "metadata": {},
   "outputs": [
    {
     "ename": "KeyboardInterrupt",
     "evalue": "",
     "output_type": "error",
     "traceback": [
      "\u001b[1;31m---------------------------------------------------------------------------\u001b[0m",
      "\u001b[1;31mKeyboardInterrupt\u001b[0m                         Traceback (most recent call last)",
      "\u001b[1;32mC:\\Users\\TOWHID~1\\AppData\\Local\\Temp/ipykernel_6388/2132911508.py\u001b[0m in \u001b[0;36m<module>\u001b[1;34m\u001b[0m\n\u001b[0;32m      6\u001b[0m \u001b[1;32mwhile\u001b[0m \u001b[0murlTargetCount\u001b[0m \u001b[1;33m>\u001b[0m \u001b[0mlen\u001b[0m\u001b[1;33m(\u001b[0m\u001b[0murls\u001b[0m\u001b[1;33m)\u001b[0m\u001b[1;33m:\u001b[0m\u001b[1;33m\u001b[0m\u001b[1;33m\u001b[0m\u001b[0m\n\u001b[0;32m      7\u001b[0m     \u001b[0mdriver\u001b[0m\u001b[1;33m.\u001b[0m\u001b[0mexecute_script\u001b[0m\u001b[1;33m(\u001b[0m\u001b[1;34m\"window.scrollTo(0,document.body.scrollHeight);\"\u001b[0m\u001b[1;33m)\u001b[0m\u001b[1;33m\u001b[0m\u001b[1;33m\u001b[0m\u001b[0m\n\u001b[1;32m----> 8\u001b[1;33m     \u001b[0mtime\u001b[0m\u001b[1;33m.\u001b[0m\u001b[0msleep\u001b[0m\u001b[1;33m(\u001b[0m\u001b[1;36m3\u001b[0m\u001b[1;33m)\u001b[0m\u001b[1;33m\u001b[0m\u001b[1;33m\u001b[0m\u001b[0m\n\u001b[0m\u001b[0;32m      9\u001b[0m     \u001b[0mnew_height\u001b[0m\u001b[1;33m=\u001b[0m \u001b[0mdriver\u001b[0m\u001b[1;33m.\u001b[0m\u001b[0mexecute_script\u001b[0m\u001b[1;33m(\u001b[0m\u001b[1;34m\"return document.body.scrollHeight\"\u001b[0m\u001b[1;33m)\u001b[0m\u001b[1;33m\u001b[0m\u001b[1;33m\u001b[0m\u001b[0m\n\u001b[0;32m     10\u001b[0m \u001b[1;31m#     print(\"urls\")\u001b[0m\u001b[1;33m\u001b[0m\u001b[1;33m\u001b[0m\u001b[0m\n",
      "\u001b[1;31mKeyboardInterrupt\u001b[0m: "
     ]
    }
   ],
   "source": [
    "urls = []\n",
    "last_height = driver.execute_script(\"return document.body.scrollHeight\")\n",
    "\n",
    "urlTargetCount = 50\n",
    "\n",
    "while urlTargetCount > len(urls):\n",
    "    driver.execute_script(\"window.scrollTo(0,document.body.scrollHeight);\")\n",
    "    time.sleep(3)\n",
    "    new_height= driver.execute_script(\"return document.body.scrollHeight\")\n",
    "#     print(\"urls\")\n",
    "#     if new_height == last_height:\n",
    "#         break\n",
    "#     print(\"yurls\")   \n",
    "    last_height = new_height\n",
    "    \n",
    "    elements= driver.find_elements(by=By.CLASS_NAME,value=\"ln2bl2p\")\n",
    "    b_urls=[]\n",
    "    for element in elements:\n",
    "        b_urls.append(element.get_attribute('href'))\n",
    "#     b_urls = [p.get_attribute('href') for p in link_element]\n",
    "    \n",
    "    urls = b_urls\n",
    "    \n",
    "# print(urls)\n",
    "print(len(urls))"
   ]
  },
  {
   "cell_type": "code",
   "execution_count": 11,
   "id": "cfacf738",
   "metadata": {},
   "outputs": [
    {
     "name": "stdout",
     "output_type": "stream",
     "text": [
      "0\n"
     ]
    }
   ],
   "source": [
    "print(len(urls))"
   ]
  },
  {
   "cell_type": "code",
   "execution_count": 23,
   "id": "689c275b",
   "metadata": {},
   "outputs": [
    {
     "data": {
      "text/plain": [
       "20"
      ]
     },
     "execution_count": 23,
     "metadata": {},
     "output_type": "execute_result"
    }
   ],
   "source": [
    "ScrollNumber = 100\n",
    "for i in range(1,ScrollNumber):\n",
    "    driver.execute_script(\"window.scrollTo(1,50000)\")\n",
    "    time.sleep(5)\n",
    "    single_link= driver.find_elements(by=By.CLASS_NAME,value=\"ln2bl2p\")\n",
    "len(single_link)\n",
    "product_urls = [p.get_attribute('href') for p in single_link]\n",
    "product_urls"
   ]
  },
  {
   "cell_type": "code",
   "execution_count": 6,
   "id": "91322189",
   "metadata": {
    "collapsed": true
   },
   "outputs": [
    {
     "data": {
      "text/plain": [
       "['https://www.airbnb.com/rooms/25986044?adults=1&category_tag=Tag%3A7769&children=0&infants=0&search_mode=flex_destinations_search&check_in=2022-10-15&check_out=2022-10-20&previous_page_section_name=1000&federated_search_id=9c8acee9-c921-4eba-ac42-d7784f0ff5f3',\n",
       " 'https://www.airbnb.com/rooms/54022691?adults=1&category_tag=Tag%3A7769&children=0&infants=0&search_mode=flex_destinations_search&check_in=2022-10-22&check_out=2022-10-27&previous_page_section_name=1000&federated_search_id=9c8acee9-c921-4eba-ac42-d7784f0ff5f3',\n",
       " 'https://www.airbnb.com/rooms/6146659?adults=1&category_tag=Tag%3A7769&children=0&infants=0&search_mode=flex_destinations_search&check_in=2023-01-06&check_out=2023-01-12&previous_page_section_name=1000&federated_search_id=9c8acee9-c921-4eba-ac42-d7784f0ff5f3',\n",
       " 'https://www.airbnb.com/rooms/54075030?adults=1&category_tag=Tag%3A7769&children=0&infants=0&search_mode=flex_destinations_search&check_in=2022-10-28&check_out=2022-11-02&previous_page_section_name=1000&federated_search_id=9c8acee9-c921-4eba-ac42-d7784f0ff5f3',\n",
       " 'https://www.airbnb.com/rooms/18570812?adults=1&category_tag=Tag%3A7769&children=0&infants=0&search_mode=flex_destinations_search&check_in=2023-02-09&check_out=2023-02-15&previous_page_section_name=1000&federated_search_id=9c8acee9-c921-4eba-ac42-d7784f0ff5f3',\n",
       " 'https://www.airbnb.com/rooms/29530432?adults=1&category_tag=Tag%3A7769&children=0&infants=0&search_mode=flex_destinations_search&check_in=2022-10-07&check_out=2022-10-14&previous_page_section_name=1000&federated_search_id=9c8acee9-c921-4eba-ac42-d7784f0ff5f3',\n",
       " 'https://www.airbnb.com/rooms/11331945?adults=1&category_tag=Tag%3A7769&children=0&infants=0&search_mode=flex_destinations_search&check_in=2023-07-28&check_out=2023-08-02&previous_page_section_name=1000&federated_search_id=9c8acee9-c921-4eba-ac42-d7784f0ff5f3',\n",
       " 'https://www.airbnb.com/rooms/32436639?adults=1&category_tag=Tag%3A7769&children=0&infants=0&search_mode=flex_destinations_search&check_in=2022-10-30&check_out=2022-11-04&previous_page_section_name=1000&federated_search_id=9c8acee9-c921-4eba-ac42-d7784f0ff5f3',\n",
       " 'https://www.airbnb.com/rooms/4079786?adults=1&category_tag=Tag%3A7769&children=0&infants=0&search_mode=flex_destinations_search&check_in=2022-10-07&check_out=2022-10-12&previous_page_section_name=1000&federated_search_id=9c8acee9-c921-4eba-ac42-d7784f0ff5f3',\n",
       " 'https://www.airbnb.com/rooms/21541028?adults=1&category_tag=Tag%3A7769&children=0&infants=0&search_mode=flex_destinations_search&check_in=2022-10-07&check_out=2022-10-12&previous_page_section_name=1000&federated_search_id=9c8acee9-c921-4eba-ac42-d7784f0ff5f3',\n",
       " 'https://www.airbnb.com/rooms/20000679?adults=1&category_tag=Tag%3A7769&children=0&infants=0&search_mode=flex_destinations_search&check_in=2022-10-14&check_out=2022-10-21&previous_page_section_name=1000&federated_search_id=9c8acee9-c921-4eba-ac42-d7784f0ff5f3',\n",
       " 'https://www.airbnb.com/rooms/40014426?adults=1&category_tag=Tag%3A7769&children=0&infants=0&search_mode=flex_destinations_search&check_in=2022-10-10&check_out=2022-10-15&previous_page_section_name=1000&federated_search_id=9c8acee9-c921-4eba-ac42-d7784f0ff5f3',\n",
       " 'https://www.airbnb.com/rooms/39009644?adults=1&category_tag=Tag%3A7769&children=0&infants=0&search_mode=flex_destinations_search&check_in=2022-10-15&check_out=2022-10-20&previous_page_section_name=1000&federated_search_id=9c8acee9-c921-4eba-ac42-d7784f0ff5f3',\n",
       " 'https://www.airbnb.com/rooms/28350427?adults=1&category_tag=Tag%3A7769&children=0&infants=0&search_mode=flex_destinations_search&check_in=2022-10-07&check_out=2022-10-13&previous_page_section_name=1000&federated_search_id=9c8acee9-c921-4eba-ac42-d7784f0ff5f3',\n",
       " 'https://www.airbnb.com/rooms/18010712?adults=1&category_tag=Tag%3A7769&children=0&infants=0&search_mode=flex_destinations_search&check_in=2022-10-14&check_out=2022-10-19&previous_page_section_name=1000&federated_search_id=9c8acee9-c921-4eba-ac42-d7784f0ff5f3',\n",
       " 'https://www.airbnb.com/rooms/29677123?adults=1&category_tag=Tag%3A7769&children=0&infants=0&search_mode=flex_destinations_search&check_in=2022-11-05&check_out=2022-11-10&previous_page_section_name=1000&federated_search_id=9c8acee9-c921-4eba-ac42-d7784f0ff5f3',\n",
       " 'https://www.airbnb.com/rooms/19366844?adults=1&category_tag=Tag%3A7769&children=0&infants=0&search_mode=flex_destinations_search&check_in=2023-01-01&check_out=2023-01-06&previous_page_section_name=1000&federated_search_id=9c8acee9-c921-4eba-ac42-d7784f0ff5f3',\n",
       " 'https://www.airbnb.com/rooms/47102901?adults=1&category_tag=Tag%3A7769&children=0&infants=0&search_mode=flex_destinations_search&check_in=2022-10-23&check_out=2022-10-28&previous_page_section_name=1000&federated_search_id=9c8acee9-c921-4eba-ac42-d7784f0ff5f3',\n",
       " 'https://www.airbnb.com/rooms/45003636?adults=1&category_tag=Tag%3A7769&children=0&infants=0&search_mode=flex_destinations_search&check_in=2022-11-04&check_out=2022-11-10&previous_page_section_name=1000&federated_search_id=9c8acee9-c921-4eba-ac42-d7784f0ff5f3',\n",
       " 'https://www.airbnb.com/rooms/19754311?adults=1&category_tag=Tag%3A7769&children=0&infants=0&search_mode=flex_destinations_search&check_in=2022-10-23&check_out=2022-10-30&previous_page_section_name=1000&federated_search_id=9c8acee9-c921-4eba-ac42-d7784f0ff5f3',\n",
       " 'https://www.airbnb.com/rooms/9497306?adults=1&category_tag=Tag%3A7769&children=0&infants=0&search_mode=flex_destinations_search&check_in=2022-10-07&check_out=2022-10-12&previous_page_section_name=1000&federated_search_id=9c8acee9-c921-4eba-ac42-d7784f0ff5f3',\n",
       " 'https://www.airbnb.com/rooms/23468640?adults=1&category_tag=Tag%3A7769&children=0&infants=0&search_mode=flex_destinations_search&check_in=2022-10-12&check_out=2022-10-17&previous_page_section_name=1000&federated_search_id=9c8acee9-c921-4eba-ac42-d7784f0ff5f3',\n",
       " 'https://www.airbnb.com/rooms/27211814?adults=1&category_tag=Tag%3A7769&children=0&infants=0&search_mode=flex_destinations_search&check_in=2022-10-07&check_out=2022-10-13&previous_page_section_name=1000&federated_search_id=9c8acee9-c921-4eba-ac42-d7784f0ff5f3',\n",
       " 'https://www.airbnb.com/rooms/46789633?adults=1&category_tag=Tag%3A7769&children=0&infants=0&search_mode=flex_destinations_search&check_in=2022-10-26&check_out=2022-10-31&previous_page_section_name=1000&federated_search_id=9c8acee9-c921-4eba-ac42-d7784f0ff5f3',\n",
       " 'https://www.airbnb.com/rooms/29426961?adults=1&category_tag=Tag%3A7769&children=0&infants=0&search_mode=flex_destinations_search&check_in=2022-10-16&check_out=2022-10-22&previous_page_section_name=1000&federated_search_id=9c8acee9-c921-4eba-ac42-d7784f0ff5f3',\n",
       " 'https://www.airbnb.com/rooms/554183?adults=1&category_tag=Tag%3A7769&children=0&infants=0&search_mode=flex_destinations_search&check_in=2022-12-17&check_out=2022-12-24&previous_page_section_name=1000&federated_search_id=9c8acee9-c921-4eba-ac42-d7784f0ff5f3',\n",
       " 'https://www.airbnb.com/rooms/25237287?adults=1&category_tag=Tag%3A7769&children=0&infants=0&search_mode=flex_destinations_search&check_in=2022-10-07&check_out=2022-10-14&previous_page_section_name=1000&federated_search_id=9c8acee9-c921-4eba-ac42-d7784f0ff5f3',\n",
       " 'https://www.airbnb.com/rooms/19598199?adults=1&category_tag=Tag%3A7769&children=0&infants=0&search_mode=flex_destinations_search&check_in=2022-11-02&check_out=2022-11-07&previous_page_section_name=1000&federated_search_id=9c8acee9-c921-4eba-ac42-d7784f0ff5f3',\n",
       " 'https://www.airbnb.com/rooms/32819339?adults=1&category_tag=Tag%3A7769&children=0&infants=0&search_mode=flex_destinations_search&check_in=2022-10-08&check_out=2022-10-15&previous_page_section_name=1000&federated_search_id=9c8acee9-c921-4eba-ac42-d7784f0ff5f3',\n",
       " 'https://www.airbnb.com/rooms/16044595?adults=1&category_tag=Tag%3A7769&children=0&infants=0&search_mode=flex_destinations_search&check_in=2023-03-01&check_out=2023-03-06&previous_page_section_name=1000&federated_search_id=9c8acee9-c921-4eba-ac42-d7784f0ff5f3',\n",
       " 'https://www.airbnb.com/rooms/18000344?adults=1&category_tag=Tag%3A7769&children=0&infants=0&search_mode=flex_destinations_search&check_in=2022-12-02&check_out=2022-12-09&previous_page_section_name=1000&federated_search_id=9c8acee9-c921-4eba-ac42-d7784f0ff5f3',\n",
       " 'https://www.airbnb.com/rooms/49332076?adults=1&category_tag=Tag%3A7769&children=0&infants=0&search_mode=flex_destinations_search&check_in=2022-10-07&check_out=2022-10-14&previous_page_section_name=1000&federated_search_id=9c8acee9-c921-4eba-ac42-d7784f0ff5f3',\n",
       " 'https://www.airbnb.com/rooms/32818740?adults=1&category_tag=Tag%3A7769&children=0&infants=0&search_mode=flex_destinations_search&check_in=2022-10-09&check_out=2022-10-14&previous_page_section_name=1000&federated_search_id=9c8acee9-c921-4eba-ac42-d7784f0ff5f3',\n",
       " 'https://www.airbnb.com/rooms/25031028?adults=1&category_tag=Tag%3A7769&children=0&infants=0&search_mode=flex_destinations_search&check_in=2022-10-15&check_out=2022-10-22&previous_page_section_name=1000&federated_search_id=9c8acee9-c921-4eba-ac42-d7784f0ff5f3',\n",
       " 'https://www.airbnb.com/rooms/23565312?adults=1&category_tag=Tag%3A7769&children=0&infants=0&search_mode=flex_destinations_search&check_in=2022-10-27&check_out=2022-11-01&previous_page_section_name=1000&federated_search_id=9c8acee9-c921-4eba-ac42-d7784f0ff5f3',\n",
       " 'https://www.airbnb.com/rooms/30608827?adults=1&category_tag=Tag%3A7769&children=0&infants=0&search_mode=flex_destinations_search&check_in=2022-10-07&check_out=2022-10-13&previous_page_section_name=1000&federated_search_id=9c8acee9-c921-4eba-ac42-d7784f0ff5f3',\n",
       " 'https://www.airbnb.com/rooms/36509543?adults=1&category_tag=Tag%3A7769&children=0&infants=0&search_mode=flex_destinations_search&check_in=2022-10-07&check_out=2022-10-12&previous_page_section_name=1000&federated_search_id=9c8acee9-c921-4eba-ac42-d7784f0ff5f3',\n",
       " 'https://www.airbnb.com/rooms/12816490?adults=1&category_tag=Tag%3A7769&children=0&infants=0&search_mode=flex_destinations_search&check_in=2022-10-07&check_out=2022-10-14&previous_page_section_name=1000&federated_search_id=9c8acee9-c921-4eba-ac42-d7784f0ff5f3',\n",
       " 'https://www.airbnb.com/rooms/27763092?adults=1&category_tag=Tag%3A7769&children=0&infants=0&search_mode=flex_destinations_search&check_in=2022-10-08&check_out=2022-10-15&previous_page_section_name=1000&federated_search_id=9c8acee9-c921-4eba-ac42-d7784f0ff5f3',\n",
       " 'https://www.airbnb.com/rooms/670689914093887507?adults=1&category_tag=Tag%3A7769&children=0&infants=0&search_mode=flex_destinations_search&check_in=2022-10-23&check_out=2022-10-28&previous_page_section_name=1000&federated_search_id=9c8acee9-c921-4eba-ac42-d7784f0ff5f3',\n",
       " 'https://www.airbnb.com/rooms/657336893252409982?adults=1&category_tag=Tag%3A7769&children=0&infants=0&search_mode=flex_destinations_search&check_in=2022-10-30&check_out=2022-11-06&previous_page_section_name=1000&federated_search_id=9c8acee9-c921-4eba-ac42-d7784f0ff5f3',\n",
       " 'https://www.airbnb.com/rooms/603976662206557671?adults=1&category_tag=Tag%3A7769&children=0&infants=0&search_mode=flex_destinations_search&check_in=2022-10-24&check_out=2022-10-29&previous_page_section_name=1000&federated_search_id=9c8acee9-c921-4eba-ac42-d7784f0ff5f3',\n",
       " 'https://www.airbnb.com/rooms/52669192?adults=1&category_tag=Tag%3A7769&children=0&infants=0&search_mode=flex_destinations_search&check_in=2023-02-03&check_out=2023-02-09&previous_page_section_name=1000&federated_search_id=9c8acee9-c921-4eba-ac42-d7784f0ff5f3',\n",
       " 'https://www.airbnb.com/rooms/714326121281549992?adults=1&category_tag=Tag%3A7769&children=0&infants=0&search_mode=flex_destinations_search&check_in=2022-10-08&check_out=2022-10-13&previous_page_section_name=1000&federated_search_id=9c8acee9-c921-4eba-ac42-d7784f0ff5f3',\n",
       " 'https://www.airbnb.com/rooms/21368738?adults=1&category_tag=Tag%3A7769&children=0&infants=0&search_mode=flex_destinations_search&check_in=2022-10-08&check_out=2022-10-15&previous_page_section_name=1000&federated_search_id=9c8acee9-c921-4eba-ac42-d7784f0ff5f3',\n",
       " 'https://www.airbnb.com/rooms/662823392393898450?adults=1&category_tag=Tag%3A7769&children=0&infants=0&search_mode=flex_destinations_search&check_in=2022-10-13&check_out=2022-10-18&previous_page_section_name=1000&federated_search_id=9c8acee9-c921-4eba-ac42-d7784f0ff5f3',\n",
       " 'https://www.airbnb.com/rooms/692648275179912008?adults=1&category_tag=Tag%3A7769&children=0&infants=0&search_mode=flex_destinations_search&check_in=2022-10-20&check_out=2022-10-25&previous_page_section_name=1000&federated_search_id=9c8acee9-c921-4eba-ac42-d7784f0ff5f3',\n",
       " 'https://www.airbnb.com/rooms/691594346021636274?adults=1&category_tag=Tag%3A7769&children=0&infants=0&search_mode=flex_destinations_search&check_in=2022-10-07&check_out=2022-10-12&previous_page_section_name=1000&federated_search_id=9c8acee9-c921-4eba-ac42-d7784f0ff5f3',\n",
       " 'https://www.airbnb.com/rooms/24742483?adults=1&category_tag=Tag%3A7769&children=0&infants=0&search_mode=flex_destinations_search&check_in=2022-10-21&check_out=2022-10-27&previous_page_section_name=1000&federated_search_id=9c8acee9-c921-4eba-ac42-d7784f0ff5f3',\n",
       " 'https://www.airbnb.com/rooms/46915010?adults=1&category_tag=Tag%3A7769&children=0&infants=0&search_mode=flex_destinations_search&check_in=2022-11-01&check_out=2022-11-06&previous_page_section_name=1000&federated_search_id=9c8acee9-c921-4eba-ac42-d7784f0ff5f3',\n",
       " 'https://www.airbnb.com/rooms/39825335?adults=1&category_tag=Tag%3A7769&children=0&infants=0&search_mode=flex_destinations_search&check_in=2022-10-24&check_out=2022-10-29&previous_page_section_name=1000&federated_search_id=9c8acee9-c921-4eba-ac42-d7784f0ff5f3',\n",
       " 'https://www.airbnb.com/rooms/686734980157081775?adults=1&category_tag=Tag%3A7769&children=0&infants=0&search_mode=flex_destinations_search&check_in=2022-10-07&check_out=2022-10-13&previous_page_section_name=1000&federated_search_id=9c8acee9-c921-4eba-ac42-d7784f0ff5f3',\n",
       " 'https://www.airbnb.com/rooms/13021858?adults=1&category_tag=Tag%3A7769&children=0&infants=0&search_mode=flex_destinations_search&check_in=2022-10-07&check_out=2022-10-12&previous_page_section_name=1000&federated_search_id=9c8acee9-c921-4eba-ac42-d7784f0ff5f3',\n",
       " 'https://www.airbnb.com/rooms/11002818?adults=1&category_tag=Tag%3A7769&children=0&infants=0&search_mode=flex_destinations_search&check_in=2022-10-08&check_out=2022-10-13&previous_page_section_name=1000&federated_search_id=9c8acee9-c921-4eba-ac42-d7784f0ff5f3',\n",
       " 'https://www.airbnb.com/rooms/656803902721088846?adults=1&category_tag=Tag%3A7769&children=0&infants=0&search_mode=flex_destinations_search&check_in=2023-05-01&check_out=2023-05-07&previous_page_section_name=1000&federated_search_id=9c8acee9-c921-4eba-ac42-d7784f0ff5f3',\n",
       " 'https://www.airbnb.com/rooms/42909271?adults=1&category_tag=Tag%3A7769&children=0&infants=0&search_mode=flex_destinations_search&check_in=2022-10-07&check_out=2022-10-12&previous_page_section_name=1000&federated_search_id=9c8acee9-c921-4eba-ac42-d7784f0ff5f3',\n",
       " 'https://www.airbnb.com/rooms/719328318245411120?adults=1&category_tag=Tag%3A7769&children=0&infants=0&search_mode=flex_destinations_search&check_in=2022-10-07&check_out=2022-10-14&previous_page_section_name=1000&federated_search_id=9c8acee9-c921-4eba-ac42-d7784f0ff5f3',\n",
       " 'https://www.airbnb.com/rooms/665968184019740721?adults=1&category_tag=Tag%3A7769&children=0&infants=0&search_mode=flex_destinations_search&check_in=2022-10-07&check_out=2022-10-14&previous_page_section_name=1000&federated_search_id=9c8acee9-c921-4eba-ac42-d7784f0ff5f3',\n",
       " 'https://www.airbnb.com/rooms/43516786?adults=1&category_tag=Tag%3A7769&children=0&infants=0&search_mode=flex_destinations_search&check_in=2022-10-16&check_out=2022-10-21&previous_page_section_name=1000&federated_search_id=9c8acee9-c921-4eba-ac42-d7784f0ff5f3',\n",
       " 'https://www.airbnb.com/rooms/12352129?adults=1&category_tag=Tag%3A7769&children=0&infants=0&search_mode=flex_destinations_search&check_in=2022-10-31&check_out=2022-11-05&previous_page_section_name=1000&federated_search_id=9c8acee9-c921-4eba-ac42-d7784f0ff5f3',\n",
       " 'https://www.airbnb.com/rooms/18891354?adults=1&category_tag=Tag%3A7769&children=0&infants=0&search_mode=flex_destinations_search&check_in=2022-10-14&check_out=2022-10-19&previous_page_section_name=1000&federated_search_id=9c8acee9-c921-4eba-ac42-d7784f0ff5f3',\n",
       " 'https://www.airbnb.com/rooms/41198560?adults=1&category_tag=Tag%3A7769&children=0&infants=0&search_mode=flex_destinations_search&check_in=2022-11-01&check_out=2022-11-06&previous_page_section_name=1000&federated_search_id=9c8acee9-c921-4eba-ac42-d7784f0ff5f3',\n",
       " 'https://www.airbnb.com/rooms/33206653?adults=1&category_tag=Tag%3A7769&children=0&infants=0&search_mode=flex_destinations_search&check_in=2022-10-07&check_out=2022-10-14&previous_page_section_name=1000&federated_search_id=9c8acee9-c921-4eba-ac42-d7784f0ff5f3',\n",
       " 'https://www.airbnb.com/rooms/680372078290570913?adults=1&category_tag=Tag%3A7769&children=0&infants=0&search_mode=flex_destinations_search&check_in=2022-10-12&check_out=2022-10-17&previous_page_section_name=1000&federated_search_id=9c8acee9-c921-4eba-ac42-d7784f0ff5f3',\n",
       " 'https://www.airbnb.com/rooms/4590044?adults=1&category_tag=Tag%3A7769&children=0&infants=0&search_mode=flex_destinations_search&check_in=2022-10-22&check_out=2022-10-27&previous_page_section_name=1000&federated_search_id=9c8acee9-c921-4eba-ac42-d7784f0ff5f3',\n",
       " 'https://www.airbnb.com/rooms/5140510?adults=1&category_tag=Tag%3A7769&children=0&infants=0&search_mode=flex_destinations_search&check_in=2022-10-08&check_out=2022-10-13&previous_page_section_name=1000&federated_search_id=9c8acee9-c921-4eba-ac42-d7784f0ff5f3',\n",
       " 'https://www.airbnb.com/rooms/24065414?adults=1&category_tag=Tag%3A7769&children=0&infants=0&search_mode=flex_destinations_search&check_in=2022-10-09&check_out=2022-10-16&previous_page_section_name=1000&federated_search_id=9c8acee9-c921-4eba-ac42-d7784f0ff5f3',\n",
       " 'https://www.airbnb.com/rooms/592599?adults=1&category_tag=Tag%3A7769&children=0&infants=0&search_mode=flex_destinations_search&check_in=2022-10-14&check_out=2022-10-21&previous_page_section_name=1000&federated_search_id=9c8acee9-c921-4eba-ac42-d7784f0ff5f3',\n",
       " 'https://www.airbnb.com/rooms/859811?adults=1&category_tag=Tag%3A7769&children=0&infants=0&search_mode=flex_destinations_search&check_in=2022-10-07&check_out=2022-10-12&previous_page_section_name=1000&federated_search_id=9c8acee9-c921-4eba-ac42-d7784f0ff5f3',\n",
       " 'https://www.airbnb.com/rooms/19064129?adults=1&category_tag=Tag%3A7769&children=0&infants=0&search_mode=flex_destinations_search&check_in=2022-10-07&check_out=2022-10-12&previous_page_section_name=1000&federated_search_id=9c8acee9-c921-4eba-ac42-d7784f0ff5f3',\n",
       " 'https://www.airbnb.com/rooms/24658392?adults=1&category_tag=Tag%3A7769&children=0&infants=0&search_mode=flex_destinations_search&check_in=2022-10-26&check_out=2022-11-01&previous_page_section_name=1000&federated_search_id=9c8acee9-c921-4eba-ac42-d7784f0ff5f3',\n",
       " 'https://www.airbnb.com/rooms/39498988?adults=1&category_tag=Tag%3A7769&children=0&infants=0&search_mode=flex_destinations_search&check_in=2022-10-07&check_out=2022-10-13&previous_page_section_name=1000&federated_search_id=9c8acee9-c921-4eba-ac42-d7784f0ff5f3',\n",
       " 'https://www.airbnb.com/rooms/13720737?adults=1&category_tag=Tag%3A7769&children=0&infants=0&search_mode=flex_destinations_search&check_in=2022-10-27&check_out=2022-11-02&previous_page_section_name=1000&federated_search_id=9c8acee9-c921-4eba-ac42-d7784f0ff5f3',\n",
       " 'https://www.airbnb.com/rooms/633127309521469020?adults=1&category_tag=Tag%3A7769&children=0&infants=0&search_mode=flex_destinations_search&check_in=2022-10-07&check_out=2022-10-12&previous_page_section_name=1000&federated_search_id=9c8acee9-c921-4eba-ac42-d7784f0ff5f3',\n",
       " 'https://www.airbnb.com/rooms/39509425?adults=1&category_tag=Tag%3A7769&children=0&infants=0&search_mode=flex_destinations_search&check_in=2022-10-08&check_out=2022-10-15&previous_page_section_name=1000&federated_search_id=9c8acee9-c921-4eba-ac42-d7784f0ff5f3',\n",
       " 'https://www.airbnb.com/rooms/682645513657289343?adults=1&category_tag=Tag%3A7769&children=0&infants=0&search_mode=flex_destinations_search&check_in=2022-10-07&check_out=2022-10-12&previous_page_section_name=1000&federated_search_id=9c8acee9-c921-4eba-ac42-d7784f0ff5f3',\n",
       " 'https://www.airbnb.com/rooms/635746209397745349?adults=1&category_tag=Tag%3A7769&children=0&infants=0&search_mode=flex_destinations_search&check_in=2022-10-07&check_out=2022-10-14&previous_page_section_name=1000&federated_search_id=9c8acee9-c921-4eba-ac42-d7784f0ff5f3',\n",
       " 'https://www.airbnb.com/rooms/43106510?adults=1&category_tag=Tag%3A7769&children=0&infants=0&search_mode=flex_destinations_search&check_in=2022-10-07&check_out=2022-10-14&previous_page_section_name=1000&federated_search_id=9c8acee9-c921-4eba-ac42-d7784f0ff5f3',\n",
       " 'https://www.airbnb.com/rooms/657813995458828624?adults=1&category_tag=Tag%3A7769&children=0&infants=0&search_mode=flex_destinations_search&check_in=2022-10-07&check_out=2022-10-12&previous_page_section_name=1000&federated_search_id=9c8acee9-c921-4eba-ac42-d7784f0ff5f3',\n",
       " 'https://www.airbnb.com/rooms/28380776?adults=1&category_tag=Tag%3A7769&children=0&infants=0&search_mode=flex_destinations_search&check_in=2022-10-10&check_out=2022-10-15&previous_page_section_name=1000&federated_search_id=9c8acee9-c921-4eba-ac42-d7784f0ff5f3',\n",
       " 'https://www.airbnb.com/rooms/641524632928500809?adults=1&category_tag=Tag%3A7769&children=0&infants=0&search_mode=flex_destinations_search&check_in=2022-10-07&check_out=2022-10-12&previous_page_section_name=1000&federated_search_id=9c8acee9-c921-4eba-ac42-d7784f0ff5f3',\n",
       " 'https://www.airbnb.com/rooms/37774211?adults=1&category_tag=Tag%3A7769&children=0&infants=0&search_mode=flex_destinations_search&check_in=2022-10-09&check_out=2022-10-14&previous_page_section_name=1000&federated_search_id=9c8acee9-c921-4eba-ac42-d7784f0ff5f3',\n",
       " 'https://www.airbnb.com/rooms/17123115?adults=1&category_tag=Tag%3A7769&children=0&infants=0&search_mode=flex_destinations_search&check_in=2022-10-07&check_out=2022-10-14&previous_page_section_name=1000&federated_search_id=9c8acee9-c921-4eba-ac42-d7784f0ff5f3',\n",
       " 'https://www.airbnb.com/rooms/30975375?adults=1&category_tag=Tag%3A7769&children=0&infants=0&search_mode=flex_destinations_search&check_in=2022-10-08&check_out=2022-10-13&previous_page_section_name=1000&federated_search_id=9c8acee9-c921-4eba-ac42-d7784f0ff5f3',\n",
       " 'https://www.airbnb.com/rooms/614297633562751031?adults=1&category_tag=Tag%3A7769&children=0&infants=0&search_mode=flex_destinations_search&check_in=2022-10-24&check_out=2022-10-29&previous_page_section_name=1000&federated_search_id=9c8acee9-c921-4eba-ac42-d7784f0ff5f3',\n",
       " 'https://www.airbnb.com/rooms/25196844?adults=1&category_tag=Tag%3A7769&children=0&infants=0&search_mode=flex_destinations_search&check_in=2022-10-25&check_out=2022-11-01&previous_page_section_name=1000&federated_search_id=9c8acee9-c921-4eba-ac42-d7784f0ff5f3',\n",
       " 'https://www.airbnb.com/rooms/5776312?adults=1&category_tag=Tag%3A7769&children=0&infants=0&search_mode=flex_destinations_search&check_in=2022-10-20&check_out=2022-10-25&previous_page_section_name=1000&federated_search_id=9c8acee9-c921-4eba-ac42-d7784f0ff5f3',\n",
       " 'https://www.airbnb.com/rooms/634378769978446825?adults=1&category_tag=Tag%3A7769&children=0&infants=0&search_mode=flex_destinations_search&check_in=2022-10-07&check_out=2022-10-12&previous_page_section_name=1000&federated_search_id=9c8acee9-c921-4eba-ac42-d7784f0ff5f3',\n",
       " 'https://www.airbnb.com/rooms/19950967?adults=1&category_tag=Tag%3A7769&children=0&infants=0&search_mode=flex_destinations_search&check_in=2022-10-07&check_out=2022-10-12&previous_page_section_name=1000&federated_search_id=9c8acee9-c921-4eba-ac42-d7784f0ff5f3',\n",
       " 'https://www.airbnb.com/rooms/20530467?adults=1&category_tag=Tag%3A7769&children=0&infants=0&search_mode=flex_destinations_search&check_in=2022-10-17&check_out=2022-10-23&previous_page_section_name=1000&federated_search_id=9c8acee9-c921-4eba-ac42-d7784f0ff5f3',\n",
       " 'https://www.airbnb.com/rooms/plus/33328227?adults=1&category_tag=Tag%3A7769&children=0&infants=0&search_mode=flex_destinations_search&check_in=2022-11-05&check_out=2022-11-10&previous_page_section_name=1000&federated_search_id=9c8acee9-c921-4eba-ac42-d7784f0ff5f3',\n",
       " 'https://www.airbnb.com/rooms/24567239?adults=1&category_tag=Tag%3A7769&children=0&infants=0&search_mode=flex_destinations_search&check_in=2022-10-07&check_out=2022-10-13&previous_page_section_name=1000&federated_search_id=9c8acee9-c921-4eba-ac42-d7784f0ff5f3',\n",
       " 'https://www.airbnb.com/rooms/19841075?adults=1&category_tag=Tag%3A7769&children=0&infants=0&search_mode=flex_destinations_search&check_in=2022-10-19&check_out=2022-10-24&previous_page_section_name=1000&federated_search_id=9c8acee9-c921-4eba-ac42-d7784f0ff5f3',\n",
       " 'https://www.airbnb.com/rooms/14604219?adults=1&category_tag=Tag%3A7769&children=0&infants=0&search_mode=flex_destinations_search&check_in=2023-03-01&check_out=2023-03-06&previous_page_section_name=1000&federated_search_id=9c8acee9-c921-4eba-ac42-d7784f0ff5f3',\n",
       " 'https://www.airbnb.com/rooms/8108421?adults=1&category_tag=Tag%3A7769&children=0&infants=0&search_mode=flex_destinations_search&check_in=2022-10-16&check_out=2022-10-23&previous_page_section_name=1000&federated_search_id=9c8acee9-c921-4eba-ac42-d7784f0ff5f3',\n",
       " 'https://www.airbnb.com/rooms/34658559?adults=1&category_tag=Tag%3A7769&children=0&infants=0&search_mode=flex_destinations_search&check_in=2023-01-01&check_out=2023-01-06&previous_page_section_name=1000&federated_search_id=9c8acee9-c921-4eba-ac42-d7784f0ff5f3',\n",
       " 'https://www.airbnb.com/rooms/48110260?adults=1&category_tag=Tag%3A7769&children=0&infants=0&search_mode=flex_destinations_search&check_in=2023-04-01&check_out=2023-04-06&previous_page_section_name=1000&federated_search_id=9c8acee9-c921-4eba-ac42-d7784f0ff5f3',\n",
       " 'https://www.airbnb.com/rooms/25529096?adults=1&category_tag=Tag%3A7769&children=0&infants=0&search_mode=flex_destinations_search&check_in=2022-10-07&check_out=2022-10-12&previous_page_section_name=1000&federated_search_id=9c8acee9-c921-4eba-ac42-d7784f0ff5f3',\n",
       " 'https://www.airbnb.com/rooms/619732701599324358?adults=1&category_tag=Tag%3A7769&children=0&infants=0&search_mode=flex_destinations_search&check_in=2022-12-17&check_out=2022-12-23&previous_page_section_name=1000&federated_search_id=9c8acee9-c921-4eba-ac42-d7784f0ff5f3',\n",
       " 'https://www.airbnb.com/rooms/22640579?adults=1&category_tag=Tag%3A7769&children=0&infants=0&search_mode=flex_destinations_search&check_in=2022-10-08&check_out=2022-10-13&previous_page_section_name=1000&federated_search_id=9c8acee9-c921-4eba-ac42-d7784f0ff5f3',\n",
       " 'https://www.airbnb.com/rooms/20256333?adults=1&category_tag=Tag%3A7769&children=0&infants=0&search_mode=flex_destinations_search&check_in=2022-10-09&check_out=2022-10-14&previous_page_section_name=1000&federated_search_id=9c8acee9-c921-4eba-ac42-d7784f0ff5f3',\n",
       " 'https://www.airbnb.com/rooms/4199449?adults=1&category_tag=Tag%3A7769&children=0&infants=0&search_mode=flex_destinations_search&check_in=2023-03-23&check_out=2023-03-29&previous_page_section_name=1000&federated_search_id=9c8acee9-c921-4eba-ac42-d7784f0ff5f3',\n",
       " 'https://www.airbnb.com/rooms/27386608?adults=1&category_tag=Tag%3A7769&children=0&infants=0&search_mode=flex_destinations_search&check_in=2022-10-07&check_out=2022-10-12&previous_page_section_name=1000&federated_search_id=9c8acee9-c921-4eba-ac42-d7784f0ff5f3',\n",
       " 'https://www.airbnb.com/rooms/638827218971322365?adults=1&category_tag=Tag%3A7769&children=0&infants=0&search_mode=flex_destinations_search&check_in=2022-11-29&check_out=2022-12-06&previous_page_section_name=1000&federated_search_id=9c8acee9-c921-4eba-ac42-d7784f0ff5f3',\n",
       " 'https://www.airbnb.com/rooms/37843083?adults=1&category_tag=Tag%3A7769&children=0&infants=0&search_mode=flex_destinations_search&check_in=2023-03-05&check_out=2023-03-10&previous_page_section_name=1000&federated_search_id=9c8acee9-c921-4eba-ac42-d7784f0ff5f3',\n",
       " 'https://www.airbnb.com/rooms/34289158?adults=1&category_tag=Tag%3A7769&children=0&infants=0&search_mode=flex_destinations_search&check_in=2022-10-07&check_out=2022-10-13&previous_page_section_name=1000&federated_search_id=9c8acee9-c921-4eba-ac42-d7784f0ff5f3',\n",
       " 'https://www.airbnb.com/rooms/40606907?adults=1&category_tag=Tag%3A7769&children=0&infants=0&search_mode=flex_destinations_search&check_in=2022-11-24&check_out=2022-12-01&previous_page_section_name=1000&federated_search_id=9c8acee9-c921-4eba-ac42-d7784f0ff5f3',\n",
       " 'https://www.airbnb.com/rooms/29573313?adults=1&category_tag=Tag%3A7769&children=0&infants=0&search_mode=flex_destinations_search&check_in=2022-10-08&check_out=2022-10-13&previous_page_section_name=1000&federated_search_id=9c8acee9-c921-4eba-ac42-d7784f0ff5f3',\n",
       " 'https://www.airbnb.com/rooms/33885938?adults=1&category_tag=Tag%3A7769&children=0&infants=0&search_mode=flex_destinations_search&check_in=2022-10-07&check_out=2022-10-14&previous_page_section_name=1000&federated_search_id=9c8acee9-c921-4eba-ac42-d7784f0ff5f3',\n",
       " 'https://www.airbnb.com/rooms/21703171?adults=1&category_tag=Tag%3A7769&children=0&infants=0&search_mode=flex_destinations_search&check_in=2022-10-07&check_out=2022-10-12&previous_page_section_name=1000&federated_search_id=9c8acee9-c921-4eba-ac42-d7784f0ff5f3',\n",
       " 'https://www.airbnb.com/rooms/21793007?adults=1&category_tag=Tag%3A7769&children=0&infants=0&search_mode=flex_destinations_search&check_in=2022-10-07&check_out=2022-10-14&previous_page_section_name=1000&federated_search_id=9c8acee9-c921-4eba-ac42-d7784f0ff5f3',\n",
       " 'https://www.airbnb.com/rooms/31044658?adults=1&category_tag=Tag%3A7769&children=0&infants=0&search_mode=flex_destinations_search&check_in=2022-10-07&check_out=2022-10-14&previous_page_section_name=1000&federated_search_id=9c8acee9-c921-4eba-ac42-d7784f0ff5f3',\n",
       " 'https://www.airbnb.com/rooms/40315284?adults=1&category_tag=Tag%3A7769&children=0&infants=0&search_mode=flex_destinations_search&check_in=2022-10-07&check_out=2022-10-14&previous_page_section_name=1000&federated_search_id=9c8acee9-c921-4eba-ac42-d7784f0ff5f3',\n",
       " 'https://www.airbnb.com/rooms/38110631?adults=1&category_tag=Tag%3A7769&children=0&infants=0&search_mode=flex_destinations_search&check_in=2022-10-11&check_out=2022-10-16&previous_page_section_name=1000&federated_search_id=9c8acee9-c921-4eba-ac42-d7784f0ff5f3',\n",
       " 'https://www.airbnb.com/rooms/39013365?adults=1&category_tag=Tag%3A7769&children=0&infants=0&search_mode=flex_destinations_search&check_in=2022-10-07&check_out=2022-10-14&previous_page_section_name=1000&federated_search_id=9c8acee9-c921-4eba-ac42-d7784f0ff5f3',\n",
       " 'https://www.airbnb.com/rooms/34466072?adults=1&category_tag=Tag%3A7769&children=0&infants=0&search_mode=flex_destinations_search&check_in=2022-10-30&check_out=2022-11-04&previous_page_section_name=1000&federated_search_id=9c8acee9-c921-4eba-ac42-d7784f0ff5f3',\n",
       " 'https://www.airbnb.com/rooms/41594794?adults=1&category_tag=Tag%3A7769&children=0&infants=0&search_mode=flex_destinations_search&check_in=2022-10-07&check_out=2022-10-14&previous_page_section_name=1000&federated_search_id=9c8acee9-c921-4eba-ac42-d7784f0ff5f3',\n",
       " 'https://www.airbnb.com/rooms/13936919?adults=1&category_tag=Tag%3A7769&children=0&infants=0&search_mode=flex_destinations_search&check_in=2022-10-08&check_out=2022-10-15&previous_page_section_name=1000&federated_search_id=9c8acee9-c921-4eba-ac42-d7784f0ff5f3',\n",
       " 'https://www.airbnb.com/rooms/23761634?adults=1&category_tag=Tag%3A7769&children=0&infants=0&search_mode=flex_destinations_search&check_in=2023-04-02&check_out=2023-04-09&previous_page_section_name=1000&federated_search_id=9c8acee9-c921-4eba-ac42-d7784f0ff5f3',\n",
       " 'https://www.airbnb.com/rooms/32071378?adults=1&category_tag=Tag%3A7769&children=0&infants=0&search_mode=flex_destinations_search&check_in=2023-02-01&check_out=2023-02-08&previous_page_section_name=1000&federated_search_id=9c8acee9-c921-4eba-ac42-d7784f0ff5f3',\n",
       " 'https://www.airbnb.com/rooms/27685066?adults=1&category_tag=Tag%3A7769&children=0&infants=0&search_mode=flex_destinations_search&check_in=2022-10-08&check_out=2022-10-15&previous_page_section_name=1000&federated_search_id=9c8acee9-c921-4eba-ac42-d7784f0ff5f3',\n",
       " 'https://www.airbnb.com/rooms/1043294?adults=1&category_tag=Tag%3A7769&children=0&infants=0&search_mode=flex_destinations_search&check_in=2022-10-19&check_out=2022-10-24&previous_page_section_name=1000&federated_search_id=9c8acee9-c921-4eba-ac42-d7784f0ff5f3',\n",
       " 'https://www.airbnb.com/rooms/16766014?adults=1&category_tag=Tag%3A7769&children=0&infants=0&search_mode=flex_destinations_search&check_in=2022-10-09&check_out=2022-10-16&previous_page_section_name=1000&federated_search_id=9c8acee9-c921-4eba-ac42-d7784f0ff5f3',\n",
       " 'https://www.airbnb.com/rooms/49762389?adults=1&category_tag=Tag%3A7769&children=0&infants=0&search_mode=flex_destinations_search&check_in=2022-10-10&check_out=2022-10-15&previous_page_section_name=1000&federated_search_id=9c8acee9-c921-4eba-ac42-d7784f0ff5f3',\n",
       " 'https://www.airbnb.com/rooms/577774365725945607?adults=1&category_tag=Tag%3A7769&children=0&infants=0&search_mode=flex_destinations_search&check_in=2022-10-12&check_out=2022-10-17&previous_page_section_name=1000&federated_search_id=9c8acee9-c921-4eba-ac42-d7784f0ff5f3',\n",
       " 'https://www.airbnb.com/rooms/24783660?adults=1&category_tag=Tag%3A7769&children=0&infants=0&search_mode=flex_destinations_search&check_in=2022-10-07&check_out=2022-10-12&previous_page_section_name=1000&federated_search_id=9c8acee9-c921-4eba-ac42-d7784f0ff5f3',\n",
       " 'https://www.airbnb.com/rooms/21429916?adults=1&category_tag=Tag%3A7769&children=0&infants=0&search_mode=flex_destinations_search&check_in=2022-10-09&check_out=2022-10-14&previous_page_section_name=1000&federated_search_id=9c8acee9-c921-4eba-ac42-d7784f0ff5f3',\n",
       " 'https://www.airbnb.com/rooms/23161895?adults=1&category_tag=Tag%3A7769&children=0&infants=0&search_mode=flex_destinations_search&check_in=2022-10-08&check_out=2022-10-14&previous_page_section_name=1000&federated_search_id=9c8acee9-c921-4eba-ac42-d7784f0ff5f3',\n",
       " 'https://www.airbnb.com/rooms/16320212?adults=1&category_tag=Tag%3A7769&children=0&infants=0&search_mode=flex_destinations_search&check_in=2022-10-07&check_out=2022-10-14&previous_page_section_name=1000&federated_search_id=9c8acee9-c921-4eba-ac42-d7784f0ff5f3',\n",
       " 'https://www.airbnb.com/rooms/38392179?adults=1&category_tag=Tag%3A7769&children=0&infants=0&search_mode=flex_destinations_search&check_in=2022-10-08&check_out=2022-10-13&previous_page_section_name=1000&federated_search_id=9c8acee9-c921-4eba-ac42-d7784f0ff5f3',\n",
       " 'https://www.airbnb.com/rooms/690190089575025180?adults=1&category_tag=Tag%3A7769&children=0&infants=0&search_mode=flex_destinations_search&check_in=2022-10-10&check_out=2022-10-15&previous_page_section_name=1000&federated_search_id=9c8acee9-c921-4eba-ac42-d7784f0ff5f3',\n",
       " 'https://www.airbnb.com/rooms/700943199149417091?adults=1&category_tag=Tag%3A7769&children=0&infants=0&search_mode=flex_destinations_search&check_in=2022-10-15&check_out=2022-10-21&previous_page_section_name=1000&federated_search_id=9c8acee9-c921-4eba-ac42-d7784f0ff5f3',\n",
       " 'https://www.airbnb.com/rooms/687405284549971811?adults=1&category_tag=Tag%3A7769&children=0&infants=0&search_mode=flex_destinations_search&check_in=2022-10-07&check_out=2022-10-14&previous_page_section_name=1000&federated_search_id=9c8acee9-c921-4eba-ac42-d7784f0ff5f3',\n",
       " 'https://www.airbnb.com/rooms/712262048940102060?adults=1&category_tag=Tag%3A7769&children=0&infants=0&search_mode=flex_destinations_search&check_in=2022-10-24&check_out=2022-10-29&previous_page_section_name=1000&federated_search_id=9c8acee9-c921-4eba-ac42-d7784f0ff5f3',\n",
       " 'https://www.airbnb.com/rooms/646931325014479510?adults=1&category_tag=Tag%3A7769&children=0&infants=0&search_mode=flex_destinations_search&check_in=2022-10-07&check_out=2022-10-12&previous_page_section_name=1000&federated_search_id=9c8acee9-c921-4eba-ac42-d7784f0ff5f3',\n",
       " 'https://www.airbnb.com/rooms/17740312?adults=1&category_tag=Tag%3A7769&children=0&infants=0&search_mode=flex_destinations_search&check_in=2022-10-07&check_out=2022-10-12&previous_page_section_name=1000&federated_search_id=9c8acee9-c921-4eba-ac42-d7784f0ff5f3',\n",
       " 'https://www.airbnb.com/rooms/686155999812376178?adults=1&category_tag=Tag%3A7769&children=0&infants=0&search_mode=flex_destinations_search&check_in=2022-11-08&check_out=2022-11-15&previous_page_section_name=1000&federated_search_id=9c8acee9-c921-4eba-ac42-d7784f0ff5f3',\n",
       " 'https://www.airbnb.com/rooms/32134956?adults=1&category_tag=Tag%3A7769&children=0&infants=0&search_mode=flex_destinations_search&check_in=2022-10-09&check_out=2022-10-15&previous_page_section_name=1000&federated_search_id=9c8acee9-c921-4eba-ac42-d7784f0ff5f3',\n",
       " 'https://www.airbnb.com/rooms/676672545562003468?adults=1&category_tag=Tag%3A7769&children=0&infants=0&search_mode=flex_destinations_search&check_in=2022-10-30&check_out=2022-11-04&previous_page_section_name=1000&federated_search_id=9c8acee9-c921-4eba-ac42-d7784f0ff5f3',\n",
       " 'https://www.airbnb.com/rooms/688673887311435771?adults=1&category_tag=Tag%3A7769&children=0&infants=0&search_mode=flex_destinations_search&check_in=2022-10-24&check_out=2022-10-31&previous_page_section_name=1000&federated_search_id=9c8acee9-c921-4eba-ac42-d7784f0ff5f3',\n",
       " 'https://www.airbnb.com/rooms/13129509?adults=1&category_tag=Tag%3A7769&children=0&infants=0&search_mode=flex_destinations_search&check_in=2022-11-27&check_out=2022-12-02&previous_page_section_name=1000&federated_search_id=9c8acee9-c921-4eba-ac42-d7784f0ff5f3',\n",
       " 'https://www.airbnb.com/rooms/677150973028597087?adults=1&category_tag=Tag%3A7769&children=0&infants=0&search_mode=flex_destinations_search&check_in=2022-12-01&check_out=2022-12-07&previous_page_section_name=1000&federated_search_id=9c8acee9-c921-4eba-ac42-d7784f0ff5f3',\n",
       " 'https://www.airbnb.com/rooms/49513381?adults=1&category_tag=Tag%3A7769&children=0&infants=0&search_mode=flex_destinations_search&check_in=2022-10-07&check_out=2022-10-12&previous_page_section_name=1000&federated_search_id=9c8acee9-c921-4eba-ac42-d7784f0ff5f3',\n",
       " 'https://www.airbnb.com/rooms/600665417279188919?adults=1&category_tag=Tag%3A7769&children=0&infants=0&search_mode=flex_destinations_search&check_in=2022-10-09&check_out=2022-10-14&previous_page_section_name=1000&federated_search_id=9c8acee9-c921-4eba-ac42-d7784f0ff5f3',\n",
       " 'https://www.airbnb.com/rooms/41164210?adults=1&category_tag=Tag%3A7769&children=0&infants=0&search_mode=flex_destinations_search&check_in=2022-10-07&check_out=2022-10-12&previous_page_section_name=1000&federated_search_id=9c8acee9-c921-4eba-ac42-d7784f0ff5f3',\n",
       " 'https://www.airbnb.com/rooms/570196060751403050?adults=1&category_tag=Tag%3A7769&children=0&infants=0&search_mode=flex_destinations_search&check_in=2022-10-07&check_out=2022-10-12&previous_page_section_name=1000&federated_search_id=9c8acee9-c921-4eba-ac42-d7784f0ff5f3',\n",
       " 'https://www.airbnb.com/rooms/18982113?adults=1&category_tag=Tag%3A7769&children=0&infants=0&search_mode=flex_destinations_search&check_in=2022-10-07&check_out=2022-10-14&previous_page_section_name=1000&federated_search_id=9c8acee9-c921-4eba-ac42-d7784f0ff5f3',\n",
       " 'https://www.airbnb.com/rooms/662842508378912800?adults=1&category_tag=Tag%3A7769&children=0&infants=0&search_mode=flex_destinations_search&check_in=2022-10-19&check_out=2022-10-24&previous_page_section_name=1000&federated_search_id=9c8acee9-c921-4eba-ac42-d7784f0ff5f3',\n",
       " 'https://www.airbnb.com/rooms/43215795?adults=1&category_tag=Tag%3A7769&children=0&infants=0&search_mode=flex_destinations_search&check_in=2022-10-13&check_out=2022-10-18&previous_page_section_name=1000&federated_search_id=9c8acee9-c921-4eba-ac42-d7784f0ff5f3',\n",
       " 'https://www.airbnb.com/rooms/674417512581441702?adults=1&category_tag=Tag%3A7769&children=0&infants=0&search_mode=flex_destinations_search&check_in=2022-10-07&check_out=2022-10-12&previous_page_section_name=1000&federated_search_id=9c8acee9-c921-4eba-ac42-d7784f0ff5f3',\n",
       " 'https://www.airbnb.com/rooms/19528419?adults=1&category_tag=Tag%3A7769&children=0&infants=0&search_mode=flex_destinations_search&check_in=2023-01-22&check_out=2023-01-29&previous_page_section_name=1000&federated_search_id=9c8acee9-c921-4eba-ac42-d7784f0ff5f3',\n",
       " 'https://www.airbnb.com/rooms/14716759?adults=1&category_tag=Tag%3A7769&children=0&infants=0&search_mode=flex_destinations_search&check_in=2023-07-02&check_out=2023-07-07&previous_page_section_name=1000&federated_search_id=9c8acee9-c921-4eba-ac42-d7784f0ff5f3',\n",
       " 'https://www.airbnb.com/rooms/26217787?adults=1&category_tag=Tag%3A7769&children=0&infants=0&search_mode=flex_destinations_search&check_in=2022-10-10&check_out=2022-10-17&previous_page_section_name=1000&federated_search_id=9c8acee9-c921-4eba-ac42-d7784f0ff5f3',\n",
       " 'https://www.airbnb.com/rooms/633830743824944301?adults=1&category_tag=Tag%3A7769&children=0&infants=0&search_mode=flex_destinations_search&check_in=2022-10-07&check_out=2022-10-12&previous_page_section_name=1000&federated_search_id=9c8acee9-c921-4eba-ac42-d7784f0ff5f3',\n",
       " 'https://www.airbnb.com/rooms/26182617?adults=1&category_tag=Tag%3A7769&children=0&infants=0&search_mode=flex_destinations_search&check_in=2022-10-08&check_out=2022-10-13&previous_page_section_name=1000&federated_search_id=9c8acee9-c921-4eba-ac42-d7784f0ff5f3',\n",
       " 'https://www.airbnb.com/rooms/618222117109346300?adults=1&category_tag=Tag%3A7769&children=0&infants=0&search_mode=flex_destinations_search&check_in=2023-02-01&check_out=2023-02-06&previous_page_section_name=1000&federated_search_id=9c8acee9-c921-4eba-ac42-d7784f0ff5f3',\n",
       " 'https://www.airbnb.com/rooms/16289684?adults=1&category_tag=Tag%3A7769&children=0&infants=0&search_mode=flex_destinations_search&check_in=2022-10-17&check_out=2022-10-22&previous_page_section_name=1000&federated_search_id=9c8acee9-c921-4eba-ac42-d7784f0ff5f3',\n",
       " 'https://www.airbnb.com/rooms/38154645?adults=1&category_tag=Tag%3A7769&children=0&infants=0&search_mode=flex_destinations_search&check_in=2022-11-05&check_out=2022-11-10&previous_page_section_name=1000&federated_search_id=9c8acee9-c921-4eba-ac42-d7784f0ff5f3',\n",
       " 'https://www.airbnb.com/rooms/45459059?adults=1&category_tag=Tag%3A7769&children=0&infants=0&search_mode=flex_destinations_search&check_in=2023-06-01&check_out=2023-06-06&previous_page_section_name=1000&federated_search_id=9c8acee9-c921-4eba-ac42-d7784f0ff5f3',\n",
       " 'https://www.airbnb.com/rooms/8704034?adults=1&category_tag=Tag%3A7769&children=0&infants=0&search_mode=flex_destinations_search&check_in=2022-10-10&check_out=2022-10-15&previous_page_section_name=1000&federated_search_id=9c8acee9-c921-4eba-ac42-d7784f0ff5f3',\n",
       " 'https://www.airbnb.com/rooms/29830546?adults=1&category_tag=Tag%3A7769&children=0&infants=0&search_mode=flex_destinations_search&check_in=2022-10-07&check_out=2022-10-13&previous_page_section_name=1000&federated_search_id=9c8acee9-c921-4eba-ac42-d7784f0ff5f3',\n",
       " 'https://www.airbnb.com/rooms/14793724?adults=1&category_tag=Tag%3A7769&children=0&infants=0&search_mode=flex_destinations_search&check_in=2022-10-10&check_out=2022-10-15&previous_page_section_name=1000&federated_search_id=9c8acee9-c921-4eba-ac42-d7784f0ff5f3',\n",
       " 'https://www.airbnb.com/rooms/43692131?adults=1&category_tag=Tag%3A7769&children=0&infants=0&search_mode=flex_destinations_search&check_in=2022-10-15&check_out=2022-10-20&previous_page_section_name=1000&federated_search_id=9c8acee9-c921-4eba-ac42-d7784f0ff5f3',\n",
       " 'https://www.airbnb.com/rooms/641154400259844271?adults=1&category_tag=Tag%3A7769&children=0&infants=0&search_mode=flex_destinations_search&check_in=2022-10-26&check_out=2022-11-02&previous_page_section_name=1000&federated_search_id=9c8acee9-c921-4eba-ac42-d7784f0ff5f3',\n",
       " 'https://www.airbnb.com/rooms/22313692?adults=1&category_tag=Tag%3A7769&children=0&infants=0&search_mode=flex_destinations_search&check_in=2023-01-01&check_out=2023-01-06&previous_page_section_name=1000&federated_search_id=9c8acee9-c921-4eba-ac42-d7784f0ff5f3',\n",
       " 'https://www.airbnb.com/rooms/41572285?adults=1&category_tag=Tag%3A7769&children=0&infants=0&search_mode=flex_destinations_search&check_in=2022-11-30&check_out=2022-12-07&previous_page_section_name=1000&federated_search_id=9c8acee9-c921-4eba-ac42-d7784f0ff5f3',\n",
       " 'https://www.airbnb.com/rooms/628571224801753086?adults=1&category_tag=Tag%3A7769&children=0&infants=0&search_mode=flex_destinations_search&check_in=2022-10-07&check_out=2022-10-14&previous_page_section_name=1000&federated_search_id=9c8acee9-c921-4eba-ac42-d7784f0ff5f3',\n",
       " 'https://www.airbnb.com/rooms/36055783?adults=1&category_tag=Tag%3A7769&children=0&infants=0&search_mode=flex_destinations_search&check_in=2022-11-04&check_out=2022-11-09&previous_page_section_name=1000&federated_search_id=9c8acee9-c921-4eba-ac42-d7784f0ff5f3',\n",
       " 'https://www.airbnb.com/rooms/21193722?adults=1&category_tag=Tag%3A7769&children=0&infants=0&search_mode=flex_destinations_search&check_in=2022-10-22&check_out=2022-10-27&previous_page_section_name=1000&federated_search_id=9c8acee9-c921-4eba-ac42-d7784f0ff5f3',\n",
       " 'https://www.airbnb.com/rooms/4588897?adults=1&category_tag=Tag%3A7769&children=0&infants=0&search_mode=flex_destinations_search&check_in=2022-10-07&check_out=2022-10-14&previous_page_section_name=1000&federated_search_id=9c8acee9-c921-4eba-ac42-d7784f0ff5f3',\n",
       " 'https://www.airbnb.com/rooms/39764385?adults=1&category_tag=Tag%3A7769&children=0&infants=0&search_mode=flex_destinations_search&check_in=2022-10-07&check_out=2022-10-12&previous_page_section_name=1000&federated_search_id=9c8acee9-c921-4eba-ac42-d7784f0ff5f3',\n",
       " 'https://www.airbnb.com/rooms/41568666?adults=1&category_tag=Tag%3A7769&children=0&infants=0&search_mode=flex_destinations_search&check_in=2022-10-07&check_out=2022-10-13&previous_page_section_name=1000&federated_search_id=9c8acee9-c921-4eba-ac42-d7784f0ff5f3',\n",
       " 'https://www.airbnb.com/rooms/20670297?adults=1&category_tag=Tag%3A7769&children=0&infants=0&search_mode=flex_destinations_search&check_in=2022-10-07&check_out=2022-10-12&previous_page_section_name=1000&federated_search_id=9c8acee9-c921-4eba-ac42-d7784f0ff5f3',\n",
       " 'https://www.airbnb.com/rooms/41652966?adults=1&category_tag=Tag%3A7769&children=0&infants=0&search_mode=flex_destinations_search&check_in=2022-10-07&check_out=2022-10-12&previous_page_section_name=1000&federated_search_id=9c8acee9-c921-4eba-ac42-d7784f0ff5f3',\n",
       " 'https://www.airbnb.com/rooms/24217107?adults=1&category_tag=Tag%3A7769&children=0&infants=0&search_mode=flex_destinations_search&check_in=2023-03-22&check_out=2023-03-28&previous_page_section_name=1000&federated_search_id=9c8acee9-c921-4eba-ac42-d7784f0ff5f3',\n",
       " 'https://www.airbnb.com/rooms/16640377?adults=1&category_tag=Tag%3A7769&children=0&infants=0&search_mode=flex_destinations_search&check_in=2022-10-07&check_out=2022-10-14&previous_page_section_name=1000&federated_search_id=9c8acee9-c921-4eba-ac42-d7784f0ff5f3',\n",
       " 'https://www.airbnb.com/rooms/40928647?adults=1&category_tag=Tag%3A7769&children=0&infants=0&search_mode=flex_destinations_search&check_in=2022-10-09&check_out=2022-10-15&previous_page_section_name=1000&federated_search_id=9c8acee9-c921-4eba-ac42-d7784f0ff5f3',\n",
       " 'https://www.airbnb.com/rooms/17142091?adults=1&category_tag=Tag%3A7769&children=0&infants=0&search_mode=flex_destinations_search&check_in=2022-10-07&check_out=2022-10-13&previous_page_section_name=1000&federated_search_id=9c8acee9-c921-4eba-ac42-d7784f0ff5f3',\n",
       " 'https://www.airbnb.com/rooms/32084254?adults=1&category_tag=Tag%3A7769&children=0&infants=0&search_mode=flex_destinations_search&check_in=2022-10-08&check_out=2022-10-13&previous_page_section_name=1000&federated_search_id=9c8acee9-c921-4eba-ac42-d7784f0ff5f3',\n",
       " 'https://www.airbnb.com/rooms/25240588?adults=1&category_tag=Tag%3A7769&children=0&infants=0&search_mode=flex_destinations_search&check_in=2022-10-09&check_out=2022-10-14&previous_page_section_name=1000&federated_search_id=9c8acee9-c921-4eba-ac42-d7784f0ff5f3',\n",
       " 'https://www.airbnb.com/rooms/32999502?adults=1&category_tag=Tag%3A7769&children=0&infants=0&search_mode=flex_destinations_search&check_in=2022-10-07&check_out=2022-10-14&previous_page_section_name=1000&federated_search_id=9c8acee9-c921-4eba-ac42-d7784f0ff5f3',\n",
       " 'https://www.airbnb.com/rooms/34484759?adults=1&category_tag=Tag%3A7769&children=0&infants=0&search_mode=flex_destinations_search&check_in=2022-10-07&check_out=2022-10-13&previous_page_section_name=1000&federated_search_id=9c8acee9-c921-4eba-ac42-d7784f0ff5f3',\n",
       " 'https://www.airbnb.com/rooms/29249973?adults=1&category_tag=Tag%3A7769&children=0&infants=0&search_mode=flex_destinations_search&check_in=2022-10-10&check_out=2022-10-17&previous_page_section_name=1000&federated_search_id=9c8acee9-c921-4eba-ac42-d7784f0ff5f3',\n",
       " 'https://www.airbnb.com/rooms/19728638?adults=1&category_tag=Tag%3A7769&children=0&infants=0&search_mode=flex_destinations_search&check_in=2022-10-07&check_out=2022-10-14&previous_page_section_name=1000&federated_search_id=9c8acee9-c921-4eba-ac42-d7784f0ff5f3',\n",
       " 'https://www.airbnb.com/rooms/41253174?adults=1&category_tag=Tag%3A7769&children=0&infants=0&search_mode=flex_destinations_search&check_in=2022-10-07&check_out=2022-10-12&previous_page_section_name=1000&federated_search_id=9c8acee9-c921-4eba-ac42-d7784f0ff5f3',\n",
       " 'https://www.airbnb.com/rooms/23240760?adults=1&category_tag=Tag%3A7769&children=0&infants=0&search_mode=flex_destinations_search&check_in=2022-10-07&check_out=2022-10-12&previous_page_section_name=1000&federated_search_id=9c8acee9-c921-4eba-ac42-d7784f0ff5f3',\n",
       " 'https://www.airbnb.com/rooms/22402397?adults=1&category_tag=Tag%3A7769&children=0&infants=0&search_mode=flex_destinations_search&check_in=2022-10-07&check_out=2022-10-13&previous_page_section_name=1000&federated_search_id=9c8acee9-c921-4eba-ac42-d7784f0ff5f3',\n",
       " 'https://www.airbnb.com/rooms/18559286?adults=1&category_tag=Tag%3A7769&children=0&infants=0&search_mode=flex_destinations_search&check_in=2023-01-01&check_out=2023-01-07&previous_page_section_name=1000&federated_search_id=9c8acee9-c921-4eba-ac42-d7784f0ff5f3',\n",
       " 'https://www.airbnb.com/rooms/32428727?adults=1&category_tag=Tag%3A7769&children=0&infants=0&search_mode=flex_destinations_search&check_in=2023-01-18&check_out=2023-01-23&previous_page_section_name=1000&federated_search_id=9c8acee9-c921-4eba-ac42-d7784f0ff5f3',\n",
       " 'https://www.airbnb.com/rooms/30826331?adults=1&category_tag=Tag%3A7769&children=0&infants=0&search_mode=flex_destinations_search&check_in=2022-10-08&check_out=2022-10-15&previous_page_section_name=1000&federated_search_id=9c8acee9-c921-4eba-ac42-d7784f0ff5f3',\n",
       " 'https://www.airbnb.com/rooms/10170162?adults=1&category_tag=Tag%3A7769&children=0&infants=0&search_mode=flex_destinations_search&check_in=2022-10-07&check_out=2022-10-12&previous_page_section_name=1000&federated_search_id=9c8acee9-c921-4eba-ac42-d7784f0ff5f3',\n",
       " 'https://www.airbnb.com/rooms/41802519?adults=1&category_tag=Tag%3A7769&children=0&infants=0&search_mode=flex_destinations_search&check_in=2022-10-24&check_out=2022-10-31&previous_page_section_name=1000&federated_search_id=9c8acee9-c921-4eba-ac42-d7784f0ff5f3',\n",
       " 'https://www.airbnb.com/rooms/16993008?adults=1&category_tag=Tag%3A7769&children=0&infants=0&search_mode=flex_destinations_search&check_in=2022-10-08&check_out=2022-10-15&previous_page_section_name=1000&federated_search_id=9c8acee9-c921-4eba-ac42-d7784f0ff5f3',\n",
       " 'https://www.airbnb.com/rooms/40576716?adults=1&category_tag=Tag%3A7769&children=0&infants=0&search_mode=flex_destinations_search&check_in=2022-10-07&check_out=2022-10-12&previous_page_section_name=1000&federated_search_id=9c8acee9-c921-4eba-ac42-d7784f0ff5f3',\n",
       " 'https://www.airbnb.com/rooms/40216900?adults=1&category_tag=Tag%3A7769&children=0&infants=0&search_mode=flex_destinations_search&check_in=2022-10-08&check_out=2022-10-14&previous_page_section_name=1000&federated_search_id=9c8acee9-c921-4eba-ac42-d7784f0ff5f3',\n",
       " 'https://www.airbnb.com/rooms/17598603?adults=1&category_tag=Tag%3A7769&children=0&infants=0&search_mode=flex_destinations_search&check_in=2022-10-07&check_out=2022-10-12&previous_page_section_name=1000&federated_search_id=9c8acee9-c921-4eba-ac42-d7784f0ff5f3',\n",
       " 'https://www.airbnb.com/rooms/29646022?adults=1&category_tag=Tag%3A7769&children=0&infants=0&search_mode=flex_destinations_search&check_in=2022-10-07&check_out=2022-10-12&previous_page_section_name=1000&federated_search_id=9c8acee9-c921-4eba-ac42-d7784f0ff5f3',\n",
       " 'https://www.airbnb.com/rooms/42949366?adults=1&category_tag=Tag%3A7769&children=0&infants=0&search_mode=flex_destinations_search&check_in=2022-10-07&check_out=2022-10-12&previous_page_section_name=1000&federated_search_id=9c8acee9-c921-4eba-ac42-d7784f0ff5f3',\n",
       " 'https://www.airbnb.com/rooms/42148665?adults=1&category_tag=Tag%3A7769&children=0&infants=0&search_mode=flex_destinations_search&check_in=2022-10-08&check_out=2022-10-15&previous_page_section_name=1000&federated_search_id=9c8acee9-c921-4eba-ac42-d7784f0ff5f3',\n",
       " 'https://www.airbnb.com/rooms/21480307?adults=1&category_tag=Tag%3A7769&children=0&infants=0&search_mode=flex_destinations_search&check_in=2022-10-31&check_out=2022-11-05&previous_page_section_name=1000&federated_search_id=9c8acee9-c921-4eba-ac42-d7784f0ff5f3',\n",
       " 'https://www.airbnb.com/rooms/53163431?adults=1&category_tag=Tag%3A7769&children=0&infants=0&search_mode=flex_destinations_search&check_in=2022-10-07&check_out=2022-10-12&previous_page_section_name=1000&federated_search_id=9c8acee9-c921-4eba-ac42-d7784f0ff5f3',\n",
       " 'https://www.airbnb.com/rooms/5043083?adults=1&category_tag=Tag%3A7769&children=0&infants=0&search_mode=flex_destinations_search&check_in=2022-12-06&check_out=2022-12-11&previous_page_section_name=1000&federated_search_id=9c8acee9-c921-4eba-ac42-d7784f0ff5f3',\n",
       " 'https://www.airbnb.com/rooms/5934727?adults=1&category_tag=Tag%3A7769&children=0&infants=0&search_mode=flex_destinations_search&check_in=2022-10-20&check_out=2022-10-26&previous_page_section_name=1000&federated_search_id=9c8acee9-c921-4eba-ac42-d7784f0ff5f3',\n",
       " 'https://www.airbnb.com/rooms/45743469?adults=1&category_tag=Tag%3A7769&children=0&infants=0&search_mode=flex_destinations_search&check_in=2022-10-08&check_out=2022-10-14&previous_page_section_name=1000&federated_search_id=9c8acee9-c921-4eba-ac42-d7784f0ff5f3',\n",
       " 'https://www.airbnb.com/rooms/40195019?adults=1&category_tag=Tag%3A7769&children=0&infants=0&search_mode=flex_destinations_search&check_in=2022-10-07&check_out=2022-10-12&previous_page_section_name=1000&federated_search_id=9c8acee9-c921-4eba-ac42-d7784f0ff5f3',\n",
       " 'https://www.airbnb.com/rooms/53490407?adults=1&category_tag=Tag%3A7769&children=0&infants=0&search_mode=flex_destinations_search&check_in=2022-10-09&check_out=2022-10-16&previous_page_section_name=1000&federated_search_id=9c8acee9-c921-4eba-ac42-d7784f0ff5f3',\n",
       " 'https://www.airbnb.com/rooms/50283382?adults=1&category_tag=Tag%3A7769&children=0&infants=0&search_mode=flex_destinations_search&check_in=2022-10-10&check_out=2022-10-15&previous_page_section_name=1000&federated_search_id=9c8acee9-c921-4eba-ac42-d7784f0ff5f3',\n",
       " 'https://www.airbnb.com/rooms/2102544?adults=1&category_tag=Tag%3A7769&children=0&infants=0&search_mode=flex_destinations_search&check_in=2023-02-02&check_out=2023-02-07&previous_page_section_name=1000&federated_search_id=9c8acee9-c921-4eba-ac42-d7784f0ff5f3',\n",
       " 'https://www.airbnb.com/rooms/50449441?adults=1&category_tag=Tag%3A7769&children=0&infants=0&search_mode=flex_destinations_search&check_in=2022-10-09&check_out=2022-10-14&previous_page_section_name=1000&federated_search_id=9c8acee9-c921-4eba-ac42-d7784f0ff5f3',\n",
       " 'https://www.airbnb.com/rooms/38599383?adults=1&category_tag=Tag%3A7769&children=0&infants=0&search_mode=flex_destinations_search&check_in=2022-10-09&check_out=2022-10-15&previous_page_section_name=1000&federated_search_id=9c8acee9-c921-4eba-ac42-d7784f0ff5f3',\n",
       " 'https://www.airbnb.com/rooms/9036475?adults=1&category_tag=Tag%3A7769&children=0&infants=0&search_mode=flex_destinations_search&check_in=2022-10-16&check_out=2022-10-21&previous_page_section_name=1000&federated_search_id=9c8acee9-c921-4eba-ac42-d7784f0ff5f3',\n",
       " 'https://www.airbnb.com/rooms/3426645?adults=1&category_tag=Tag%3A7769&children=0&infants=0&search_mode=flex_destinations_search&check_in=2022-10-16&check_out=2022-10-21&previous_page_section_name=1000&federated_search_id=9c8acee9-c921-4eba-ac42-d7784f0ff5f3',\n",
       " 'https://www.airbnb.com/rooms/21933762?adults=1&category_tag=Tag%3A7769&children=0&infants=0&search_mode=flex_destinations_search&check_in=2022-10-10&check_out=2022-10-15&previous_page_section_name=1000&federated_search_id=9c8acee9-c921-4eba-ac42-d7784f0ff5f3',\n",
       " 'https://www.airbnb.com/rooms/19587964?adults=1&category_tag=Tag%3A7769&children=0&infants=0&search_mode=flex_destinations_search&check_in=2022-10-10&check_out=2022-10-15&previous_page_section_name=1000&federated_search_id=9c8acee9-c921-4eba-ac42-d7784f0ff5f3',\n",
       " 'https://www.airbnb.com/rooms/8403285?adults=1&category_tag=Tag%3A7769&children=0&infants=0&search_mode=flex_destinations_search&check_in=2022-10-18&check_out=2022-10-23&previous_page_section_name=1000&federated_search_id=9c8acee9-c921-4eba-ac42-d7784f0ff5f3',\n",
       " 'https://www.airbnb.com/rooms/9703226?adults=1&category_tag=Tag%3A7769&children=0&infants=0&search_mode=flex_destinations_search&check_in=2022-10-08&check_out=2022-10-13&previous_page_section_name=1000&federated_search_id=9c8acee9-c921-4eba-ac42-d7784f0ff5f3',\n",
       " 'https://www.airbnb.com/rooms/12335900?adults=1&category_tag=Tag%3A7769&children=0&infants=0&search_mode=flex_destinations_search&check_in=2022-10-15&check_out=2022-10-22&previous_page_section_name=1000&federated_search_id=9c8acee9-c921-4eba-ac42-d7784f0ff5f3',\n",
       " 'https://www.airbnb.com/rooms/2998313?adults=1&category_tag=Tag%3A7769&children=0&infants=0&search_mode=flex_destinations_search&check_in=2022-10-09&check_out=2022-10-15&previous_page_section_name=1000&federated_search_id=9c8acee9-c921-4eba-ac42-d7784f0ff5f3',\n",
       " 'https://www.airbnb.com/rooms/40316686?adults=1&category_tag=Tag%3A7769&children=0&infants=0&search_mode=flex_destinations_search&check_in=2023-04-22&check_out=2023-04-27&previous_page_section_name=1000&federated_search_id=9c8acee9-c921-4eba-ac42-d7784f0ff5f3',\n",
       " 'https://www.airbnb.com/rooms/2205232?adults=1&category_tag=Tag%3A7769&children=0&infants=0&search_mode=flex_destinations_search&check_in=2022-10-17&check_out=2022-10-22&previous_page_section_name=1000&federated_search_id=9c8acee9-c921-4eba-ac42-d7784f0ff5f3',\n",
       " 'https://www.airbnb.com/rooms/30135649?adults=1&category_tag=Tag%3A7769&children=0&infants=0&search_mode=flex_destinations_search&check_in=2022-10-09&check_out=2022-10-16&previous_page_section_name=1000&federated_search_id=9c8acee9-c921-4eba-ac42-d7784f0ff5f3',\n",
       " 'https://www.airbnb.com/rooms/1157963?adults=1&category_tag=Tag%3A7769&children=0&infants=0&search_mode=flex_destinations_search&check_in=2022-10-15&check_out=2022-10-20&previous_page_section_name=1000&federated_search_id=9c8acee9-c921-4eba-ac42-d7784f0ff5f3',\n",
       " 'https://www.airbnb.com/rooms/21899434?adults=1&category_tag=Tag%3A7769&children=0&infants=0&search_mode=flex_destinations_search&check_in=2022-10-07&check_out=2022-10-12&previous_page_section_name=1000&federated_search_id=9c8acee9-c921-4eba-ac42-d7784f0ff5f3',\n",
       " 'https://www.airbnb.com/rooms/17410481?adults=1&category_tag=Tag%3A7769&children=0&infants=0&search_mode=flex_destinations_search&check_in=2022-10-21&check_out=2022-10-26&previous_page_section_name=1000&federated_search_id=9c8acee9-c921-4eba-ac42-d7784f0ff5f3',\n",
       " 'https://www.airbnb.com/rooms/29204801?adults=1&category_tag=Tag%3A7769&children=0&infants=0&search_mode=flex_destinations_search&check_in=2022-10-07&check_out=2022-10-12&previous_page_section_name=1000&federated_search_id=9c8acee9-c921-4eba-ac42-d7784f0ff5f3',\n",
       " 'https://www.airbnb.com/rooms/274373?adults=1&category_tag=Tag%3A7769&children=0&infants=0&search_mode=flex_destinations_search&check_in=2022-10-19&check_out=2022-10-24&previous_page_section_name=1000&federated_search_id=9c8acee9-c921-4eba-ac42-d7784f0ff5f3',\n",
       " 'https://www.airbnb.com/rooms/590433427691457046?adults=1&category_tag=Tag%3A7769&children=0&infants=0&search_mode=flex_destinations_search&check_in=2022-10-31&check_out=2022-11-06&previous_page_section_name=1000&federated_search_id=9c8acee9-c921-4eba-ac42-d7784f0ff5f3',\n",
       " 'https://www.airbnb.com/rooms/12211334?adults=1&category_tag=Tag%3A7769&children=0&infants=0&search_mode=flex_destinations_search&check_in=2022-10-07&check_out=2022-10-14&previous_page_section_name=1000&federated_search_id=9c8acee9-c921-4eba-ac42-d7784f0ff5f3',\n",
       " 'https://www.airbnb.com/rooms/23077246?adults=1&category_tag=Tag%3A7769&children=0&infants=0&search_mode=flex_destinations_search&check_in=2022-10-21&check_out=2022-10-27&previous_page_section_name=1000&federated_search_id=9c8acee9-c921-4eba-ac42-d7784f0ff5f3',\n",
       " 'https://www.airbnb.com/rooms/39097838?adults=1&category_tag=Tag%3A7769&children=0&infants=0&search_mode=flex_destinations_search&check_in=2022-10-09&check_out=2022-10-14&previous_page_section_name=1000&federated_search_id=9c8acee9-c921-4eba-ac42-d7784f0ff5f3',\n",
       " 'https://www.airbnb.com/rooms/45918916?adults=1&category_tag=Tag%3A7769&children=0&infants=0&search_mode=flex_destinations_search&check_in=2022-10-07&check_out=2022-10-12&previous_page_section_name=1000&federated_search_id=9c8acee9-c921-4eba-ac42-d7784f0ff5f3',\n",
       " 'https://www.airbnb.com/rooms/17881774?adults=1&category_tag=Tag%3A7769&children=0&infants=0&search_mode=flex_destinations_search&check_in=2022-10-07&check_out=2022-10-14&previous_page_section_name=1000&federated_search_id=9c8acee9-c921-4eba-ac42-d7784f0ff5f3',\n",
       " 'https://www.airbnb.com/rooms/23735607?adults=1&category_tag=Tag%3A7769&children=0&infants=0&search_mode=flex_destinations_search&check_in=2022-10-07&check_out=2022-10-12&previous_page_section_name=1000&federated_search_id=9c8acee9-c921-4eba-ac42-d7784f0ff5f3',\n",
       " 'https://www.airbnb.com/rooms/10797402?adults=1&category_tag=Tag%3A7769&children=0&infants=0&search_mode=flex_destinations_search&check_in=2022-10-08&check_out=2022-10-13&previous_page_section_name=1000&federated_search_id=9c8acee9-c921-4eba-ac42-d7784f0ff5f3',\n",
       " 'https://www.airbnb.com/rooms/37243045?adults=1&category_tag=Tag%3A7769&children=0&infants=0&search_mode=flex_destinations_search&check_in=2022-10-08&check_out=2022-10-13&previous_page_section_name=1000&federated_search_id=9c8acee9-c921-4eba-ac42-d7784f0ff5f3',\n",
       " 'https://www.airbnb.com/rooms/43093181?adults=1&category_tag=Tag%3A7769&children=0&infants=0&search_mode=flex_destinations_search&check_in=2022-10-08&check_out=2022-10-13&previous_page_section_name=1000&federated_search_id=9c8acee9-c921-4eba-ac42-d7784f0ff5f3',\n",
       " 'https://www.airbnb.com/rooms/42646864?adults=1&category_tag=Tag%3A7769&children=0&infants=0&search_mode=flex_destinations_search&check_in=2022-10-07&check_out=2022-10-12&previous_page_section_name=1000&federated_search_id=9c8acee9-c921-4eba-ac42-d7784f0ff5f3',\n",
       " 'https://www.airbnb.com/rooms/16493320?adults=1&category_tag=Tag%3A7769&children=0&infants=0&search_mode=flex_destinations_search&check_in=2022-10-07&check_out=2022-10-13&previous_page_section_name=1000&federated_search_id=9c8acee9-c921-4eba-ac42-d7784f0ff5f3',\n",
       " 'https://www.airbnb.com/rooms/24401551?adults=1&category_tag=Tag%3A7769&children=0&infants=0&search_mode=flex_destinations_search&check_in=2022-10-07&check_out=2022-10-12&previous_page_section_name=1000&federated_search_id=9c8acee9-c921-4eba-ac42-d7784f0ff5f3',\n",
       " 'https://www.airbnb.com/rooms/17910260?adults=1&category_tag=Tag%3A7769&children=0&infants=0&search_mode=flex_destinations_search&check_in=2022-10-07&check_out=2022-10-14&previous_page_section_name=1000&federated_search_id=9c8acee9-c921-4eba-ac42-d7784f0ff5f3',\n",
       " 'https://www.airbnb.com/rooms/8912685?adults=1&category_tag=Tag%3A7769&children=0&infants=0&search_mode=flex_destinations_search&check_in=2022-10-07&check_out=2022-10-12&previous_page_section_name=1000&federated_search_id=9c8acee9-c921-4eba-ac42-d7784f0ff5f3',\n",
       " 'https://www.airbnb.com/rooms/728824910166997658?adults=1&category_tag=Tag%3A7769&children=0&infants=0&search_mode=flex_destinations_search&check_in=2022-10-07&check_out=2022-10-12&previous_page_section_name=1000&federated_search_id=9c8acee9-c921-4eba-ac42-d7784f0ff5f3',\n",
       " 'https://www.airbnb.com/rooms/45714615?adults=1&category_tag=Tag%3A7769&children=0&infants=0&search_mode=flex_destinations_search&check_in=2022-10-07&check_out=2022-10-12&previous_page_section_name=1000&federated_search_id=9c8acee9-c921-4eba-ac42-d7784f0ff5f3',\n",
       " 'https://www.airbnb.com/rooms/676376838317431575?adults=1&category_tag=Tag%3A7769&children=0&infants=0&search_mode=flex_destinations_search&check_in=2022-10-13&check_out=2022-10-18&previous_page_section_name=1000&federated_search_id=9c8acee9-c921-4eba-ac42-d7784f0ff5f3',\n",
       " 'https://www.airbnb.com/rooms/35817723?adults=1&category_tag=Tag%3A7769&children=0&infants=0&search_mode=flex_destinations_search&check_in=2022-10-07&check_out=2022-10-13&previous_page_section_name=1000&federated_search_id=9c8acee9-c921-4eba-ac42-d7784f0ff5f3',\n",
       " 'https://www.airbnb.com/rooms/34099713?adults=1&category_tag=Tag%3A7769&children=0&infants=0&search_mode=flex_destinations_search&check_in=2022-10-07&check_out=2022-10-12&previous_page_section_name=1000&federated_search_id=9c8acee9-c921-4eba-ac42-d7784f0ff5f3',\n",
       " 'https://www.airbnb.com/rooms/36184610?adults=1&category_tag=Tag%3A7769&children=0&infants=0&search_mode=flex_destinations_search&check_in=2022-10-08&check_out=2022-10-13&previous_page_section_name=1000&federated_search_id=9c8acee9-c921-4eba-ac42-d7784f0ff5f3',\n",
       " 'https://www.airbnb.com/rooms/51395722?adults=1&category_tag=Tag%3A7769&children=0&infants=0&search_mode=flex_destinations_search&check_in=2022-10-10&check_out=2022-10-15&previous_page_section_name=1000&federated_search_id=9c8acee9-c921-4eba-ac42-d7784f0ff5f3',\n",
       " 'https://www.airbnb.com/rooms/21328247?adults=1&category_tag=Tag%3A7769&children=0&infants=0&search_mode=flex_destinations_search&check_in=2022-11-20&check_out=2022-11-25&previous_page_section_name=1000&federated_search_id=9c8acee9-c921-4eba-ac42-d7784f0ff5f3',\n",
       " 'https://www.airbnb.com/rooms/46476128?adults=1&category_tag=Tag%3A7769&children=0&infants=0&search_mode=flex_destinations_search&check_in=2022-12-12&check_out=2022-12-17&previous_page_section_name=1000&federated_search_id=9c8acee9-c921-4eba-ac42-d7784f0ff5f3',\n",
       " 'https://www.airbnb.com/rooms/48128091?adults=1&category_tag=Tag%3A7769&children=0&infants=0&search_mode=flex_destinations_search&check_in=2022-10-09&check_out=2022-10-14&previous_page_section_name=1000&federated_search_id=9c8acee9-c921-4eba-ac42-d7784f0ff5f3',\n",
       " 'https://www.airbnb.com/rooms/5260862?adults=1&category_tag=Tag%3A7769&children=0&infants=0&search_mode=flex_destinations_search&check_in=2022-10-08&check_out=2022-10-13&previous_page_section_name=1000&federated_search_id=9c8acee9-c921-4eba-ac42-d7784f0ff5f3',\n",
       " 'https://www.airbnb.com/rooms/42144341?adults=1&category_tag=Tag%3A7769&children=0&infants=0&search_mode=flex_destinations_search&check_in=2022-10-28&check_out=2022-11-02&previous_page_section_name=1000&federated_search_id=9c8acee9-c921-4eba-ac42-d7784f0ff5f3',\n",
       " 'https://www.airbnb.com/rooms/39122278?adults=1&category_tag=Tag%3A7769&children=0&infants=0&search_mode=flex_destinations_search&check_in=2022-10-09&check_out=2022-10-14&previous_page_section_name=1000&federated_search_id=9c8acee9-c921-4eba-ac42-d7784f0ff5f3',\n",
       " 'https://www.airbnb.com/rooms/16377109?adults=1&category_tag=Tag%3A7769&children=0&infants=0&search_mode=flex_destinations_search&check_in=2022-10-26&check_out=2022-11-01&previous_page_section_name=1000&federated_search_id=9c8acee9-c921-4eba-ac42-d7784f0ff5f3',\n",
       " 'https://www.airbnb.com/rooms/591136100788380381?adults=1&category_tag=Tag%3A7769&children=0&infants=0&search_mode=flex_destinations_search&check_in=2022-10-07&check_out=2022-10-14&previous_page_section_name=1000&federated_search_id=9c8acee9-c921-4eba-ac42-d7784f0ff5f3',\n",
       " 'https://www.airbnb.com/rooms/575000120472662416?adults=1&category_tag=Tag%3A7769&children=0&infants=0&search_mode=flex_destinations_search&check_in=2022-10-07&check_out=2022-10-12&previous_page_section_name=1000&federated_search_id=9c8acee9-c921-4eba-ac42-d7784f0ff5f3',\n",
       " 'https://www.airbnb.com/rooms/32485223?adults=1&category_tag=Tag%3A7769&children=0&infants=0&search_mode=flex_destinations_search&check_in=2022-10-07&check_out=2022-10-14&previous_page_section_name=1000&federated_search_id=9c8acee9-c921-4eba-ac42-d7784f0ff5f3',\n",
       " 'https://www.airbnb.com/rooms/48836044?adults=1&category_tag=Tag%3A7769&children=0&infants=0&search_mode=flex_destinations_search&check_in=2022-10-07&check_out=2022-10-14&previous_page_section_name=1000&federated_search_id=9c8acee9-c921-4eba-ac42-d7784f0ff5f3',\n",
       " 'https://www.airbnb.com/rooms/16104675?adults=1&category_tag=Tag%3A7769&children=0&infants=0&search_mode=flex_destinations_search&check_in=2022-10-07&check_out=2022-10-13&previous_page_section_name=1000&federated_search_id=9c8acee9-c921-4eba-ac42-d7784f0ff5f3',\n",
       " 'https://www.airbnb.com/rooms/32481372?adults=1&category_tag=Tag%3A7769&children=0&infants=0&search_mode=flex_destinations_search&check_in=2022-10-08&check_out=2022-10-13&previous_page_section_name=1000&federated_search_id=9c8acee9-c921-4eba-ac42-d7784f0ff5f3',\n",
       " 'https://www.airbnb.com/rooms/340461?adults=1&category_tag=Tag%3A7769&children=0&infants=0&search_mode=flex_destinations_search&check_in=2022-10-07&check_out=2022-10-12&previous_page_section_name=1000&federated_search_id=9c8acee9-c921-4eba-ac42-d7784f0ff5f3',\n",
       " 'https://www.airbnb.com/rooms/32482359?adults=1&category_tag=Tag%3A7769&children=0&infants=0&search_mode=flex_destinations_search&check_in=2022-10-08&check_out=2022-10-13&previous_page_section_name=1000&federated_search_id=9c8acee9-c921-4eba-ac42-d7784f0ff5f3',\n",
       " 'https://www.airbnb.com/rooms/46126163?adults=1&category_tag=Tag%3A7769&children=0&infants=0&search_mode=flex_destinations_search&check_in=2022-10-16&check_out=2022-10-21&previous_page_section_name=1000&federated_search_id=9c8acee9-c921-4eba-ac42-d7784f0ff5f3',\n",
       " 'https://www.airbnb.com/rooms/45600077?adults=1&category_tag=Tag%3A7769&children=0&infants=0&search_mode=flex_destinations_search&check_in=2022-10-07&check_out=2022-10-12&previous_page_section_name=1000&federated_search_id=9c8acee9-c921-4eba-ac42-d7784f0ff5f3']"
      ]
     },
     "execution_count": 6,
     "metadata": {},
     "output_type": "execute_result"
    }
   ],
   "source": [
    "product_urls = [p.get_attribute('href') for p in single_link]\n",
    "product_urls"
   ]
  },
  {
   "cell_type": "code",
   "execution_count": 7,
   "id": "1a357c11",
   "metadata": {},
   "outputs": [
    {
     "data": {
      "text/plain": [
       "265"
      ]
     },
     "execution_count": 7,
     "metadata": {},
     "output_type": "execute_result"
    }
   ],
   "source": [
    "len(product_urls)"
   ]
  },
  {
   "cell_type": "code",
   "execution_count": 21,
   "id": "fe8ec6f1",
   "metadata": {},
   "outputs": [],
   "source": [
    "driver.get('https://www.airbnb.com/rooms/18778848?adults=1&category_tag=Tag%3A7769&children=0&infants=0&search_mode=flex_destinations_search&check_in=2023-05-17&check_out=2023-05-23&federated_search_id=b4fa917f-a5c1-4ac7-83ba-aee928c215af&source_impression_id=p3_1665227790_OaVs6D60vZRYWO93')"
   ]
  },
  {
   "cell_type": "code",
   "execution_count": 7,
   "id": "a5692639",
   "metadata": {},
   "outputs": [
    {
     "data": {
      "text/plain": [
       "'The Crest Santora Huahin'"
      ]
     },
     "execution_count": 7,
     "metadata": {},
     "output_type": "execute_result"
    }
   ],
   "source": [
    "title_ele = driver.find_element(by=By.TAG_NAME, value='h1')\n",
    "title_ele.text"
   ]
  },
  {
   "cell_type": "code",
   "execution_count": 12,
   "id": "f5c4f851",
   "metadata": {},
   "outputs": [],
   "source": [
    "driver.find_element(by=By.XPATH, value='//*[@id=\"site-content\"]/div/div[1]/div[3]/div/div[1]/div/div[5]/div/div/div[2]/button').click()\n",
    "time.sleep(2)\n",
    "descript_ele = driver.find_element(by=By.XPATH, value='/html/body/div[11]/section/div/div/div[2]/div/div[2]')\n",
    "description=descript_ele.text.split('\\n')\n",
    "driver.find_element(by=By.XPATH, value='/html/body/div[11]/section/div/div/div[2]/div/div[1]/button').click()"
   ]
  },
  {
   "cell_type": "code",
   "execution_count": 13,
   "id": "7bdfbaa8",
   "metadata": {},
   "outputs": [
    {
     "data": {
      "text/plain": [
       "['About this space',\n",
       " 'The Crest Santora is a luxury resort condo decorated in Santorini style with all the amenities of a 5 style swimming pool, Fitness, Kids Room and security system suitable for a classy retreat.',\n",
       " 'The space',\n",
       " 'Luxurious air-conditioning condominiums, beautiful private beaches within the project, decorated in style, Santorini Island, Greece, on the beach in front of the sea, horseback riding, a large pool around every building, perfect for relaxation, and many nearby attractions such as Seenspace Hua hin, enjoy Hua Hin, just 2 kilometers from home. Easy access in a spacious room to make a kitchen.',\n",
       " 'Guest access',\n",
       " 'In-project amenities',\n",
       " 'Fitness',\n",
       " 'Kids Room',\n",
       " '5 Swimming Pools',\n",
       " 'CCTV',\n",
       " 'Car Park',\n",
       " 'Fancy Rubber Padding Take Great Pictures',\n",
       " 'Other things to note',\n",
       " 'Provide national ID or passport to check in']"
      ]
     },
     "execution_count": 13,
     "metadata": {},
     "output_type": "execute_result"
    }
   ],
   "source": [
    "description"
   ]
  },
  {
   "cell_type": "code",
   "execution_count": 86,
   "id": "7b73bbb4",
   "metadata": {},
   "outputs": [
    {
     "data": {
      "text/plain": [
       "'$110'"
      ]
     },
     "execution_count": 86,
     "metadata": {},
     "output_type": "execute_result"
    }
   ],
   "source": [
    "price = driver.find_element(by=By.XPATH, value='//*[@id=\"site-content\"]/div/div[1]/div[3]/div/div[2]/div/div/div[1]/div/div/div/div/div/div/div[1]/div[1]/div[1]/div/span/div/span[1]')\n",
    "price.text"
   ]
  },
  {
   "cell_type": "code",
   "execution_count": 89,
   "id": "774cd186",
   "metadata": {},
   "outputs": [
    {
     "data": {
      "text/plain": [
       "'4.67 ·'"
      ]
     },
     "execution_count": 89,
     "metadata": {},
     "output_type": "execute_result"
    }
   ],
   "source": [
    "rating = driver.find_element(by=By.XPATH, value='//*[@id=\"site-content\"]/div/div[1]/div[1]/div[1]/div/div/div/div/section/div[2]/div[1]/span[1]/span[2]')\n",
    "rating.text"
   ]
  },
  {
   "cell_type": "code",
   "execution_count": 90,
   "id": "630df5c7",
   "metadata": {},
   "outputs": [
    {
     "data": {
      "text/plain": [
       "'70 reviews'"
      ]
     },
     "execution_count": 90,
     "metadata": {},
     "output_type": "execute_result"
    }
   ],
   "source": [
    "num_review = driver.find_element(by=By.XPATH, value='//*[@id=\"site-content\"]/div/div[1]/div[1]/div[1]/div/div/div/div/section/div[2]/div[1]/span[1]/span[3]/button')\n",
    "num_review.text"
   ]
  },
  {
   "cell_type": "code",
   "execution_count": 91,
   "id": "ec9cdf6d",
   "metadata": {},
   "outputs": [
    {
     "data": {
      "text/plain": [
       "'Muang Pattaya, Chang Wat Chon Buri, Thailand'"
      ]
     },
     "execution_count": 91,
     "metadata": {},
     "output_type": "execute_result"
    }
   ],
   "source": [
    "location = driver.find_element(by=By.XPATH, value='//*[@id=\"site-content\"]/div/div[1]/div[1]/div[1]/div/div/div/div/section/div[2]/div[1]/span[3]/button/span')\n",
    "location.text"
   ]
  },
  {
   "cell_type": "code",
   "execution_count": 15,
   "id": "b5e6aff7",
   "metadata": {},
   "outputs": [
    {
     "data": {
      "text/plain": [
       "'Bathroom ,Bathtub ,Hair dryer ,Bedroom and laundry ,Essentials ,Towels, bed sheets, soap, and toilet paper ,Hangers ,Room-darkening shades ,Entertainment ,TV ,Family ,Children’s books and toys ,Heating and cooling ,Air conditioning ,Heating ,Home safety ,Smoke alarm ,Fire extinguisher ,Internet and office ,Wifi ,Kitchen and dining ,Kitchen ,Space where guests can cook their own meals ,Refrigerator ,Microwave ,Cooking basics ,Pots and pans, oil, salt and pepper ,Dishes and silverware ,Bowls, chopsticks, plates, cups, etc. ,Stove ,Location features ,Beach access – Beachfront ,Guests can enjoy a nearby beach ,Outdoor ,Patio or balcony ,Backyard ,An open space on the property usually covered in grass ,Parking and facilities ,Free parking on premises ,Pool ,Hot tub ,Elevator ,The home or building has an elevator that’s at least 52 inches deep and a doorway at least 32 inches wide. ,Gym ,Services ,Long term stays allowed ,Allow stay for 28 days or more ,Host greets you ,Not included ,Unavailable: Washer ,Washer ,Unavailable: Carbon monoxide alarm ,Carbon monoxide alarm ,This place may not have a carbon monoxide detector. Reach out to the host with any questions. ,Unavailable: Private entrance ,Private entrance'"
      ]
     },
     "execution_count": 15,
     "metadata": {},
     "output_type": "execute_result"
    }
   ],
   "source": [
    "driver.find_element(by=By.XPATH, value='//*[@id=\"site-content\"]/div/div[1]/div[3]/div/div[1]/div/div[7]/div/div[2]/section/div[4]/button').click()\n",
    "services = driver.find_element(by=By.XPATH, value='/html/body/div[11]/section/div/div/div[2]/div/div[3]/div/div/div/div/section/div[2]')\n",
    "# services.text.split('\\n')\n",
    "service=' ,'.join(services.text.split('\\n'))\n",
    "driver.find_element(by=By.XPATH, value='/html/body/div[11]/section/div/div/div[2]/div/div[1]/button').click()\n",
    "service"
   ]
  },
  {
   "cell_type": "code",
   "execution_count": 42,
   "id": "d7b60b80",
   "metadata": {},
   "outputs": [
    {
     "name": "stdout",
     "output_type": "stream",
     "text": [
      "img: https://a0.muscache.com/im/pictures/d2b1df68-60c4-47b5-bd90-c50861da5095.jpg?im_w=720\n",
      "f: https://a0.muscache.com/im/pictures/d2b1df68-60c4-47b5-bd90-c50861da5095.jpg\n",
      "r: https://a0.muscache.com/im/pictures/d2b1df68-60c4-47b5-bd90-c50861da5095.jpg?im_w=720\n",
      "n: d2b1df68-60c4-47b5-bd90-c50861da5095.jpg\n",
      "img: https://a0.muscache.com/im/pictures/ef146f7f-0687-4d80-9043-364ba8df8722.jpg?im_w=720\n",
      "f: https://a0.muscache.com/im/pictures/ef146f7f-0687-4d80-9043-364ba8df8722.jpg\n",
      "r: https://a0.muscache.com/im/pictures/ef146f7f-0687-4d80-9043-364ba8df8722.jpg?im_w=720\n",
      "n: ef146f7f-0687-4d80-9043-364ba8df8722.jpg\n",
      "img: https://a0.muscache.com/im/pictures/f8c70d7c-1079-4a04-87a0-0e58bc0b5529.jpg?im_w=720\n",
      "f: https://a0.muscache.com/im/pictures/f8c70d7c-1079-4a04-87a0-0e58bc0b5529.jpg\n",
      "r: https://a0.muscache.com/im/pictures/f8c70d7c-1079-4a04-87a0-0e58bc0b5529.jpg?im_w=720\n",
      "n: f8c70d7c-1079-4a04-87a0-0e58bc0b5529.jpg\n",
      "img: https://a0.muscache.com/im/pictures/9698b0c3-fc0d-4868-99ec-045a4c5b8b7d.jpg?im_w=720\n",
      "f: https://a0.muscache.com/im/pictures/9698b0c3-fc0d-4868-99ec-045a4c5b8b7d.jpg\n",
      "r: https://a0.muscache.com/im/pictures/9698b0c3-fc0d-4868-99ec-045a4c5b8b7d.jpg?im_w=720\n",
      "n: 9698b0c3-fc0d-4868-99ec-045a4c5b8b7d.jpg\n",
      "img: https://a0.muscache.com/im/pictures/db30ab0f-0894-4f42-b148-b2e5e90eb1fb.jpg?im_w=720\n",
      "f: https://a0.muscache.com/im/pictures/db30ab0f-0894-4f42-b148-b2e5e90eb1fb.jpg\n",
      "r: https://a0.muscache.com/im/pictures/db30ab0f-0894-4f42-b148-b2e5e90eb1fb.jpg?im_w=720\n",
      "n: db30ab0f-0894-4f42-b148-b2e5e90eb1fb.jpg\n",
      "img: https://a0.muscache.com/im/pictures/12bfaa19-d9f4-437b-92b9-de133f6b1201.jpg?im_w=720\n",
      "f: https://a0.muscache.com/im/pictures/12bfaa19-d9f4-437b-92b9-de133f6b1201.jpg\n",
      "r: https://a0.muscache.com/im/pictures/12bfaa19-d9f4-437b-92b9-de133f6b1201.jpg?im_w=720\n",
      "n: 12bfaa19-d9f4-437b-92b9-de133f6b1201.jpg\n",
      "img: https://a0.muscache.com/im/pictures/5783a8e8-a44f-430e-ba27-4eb187367fe2.jpg?im_w=720\n",
      "f: https://a0.muscache.com/im/pictures/5783a8e8-a44f-430e-ba27-4eb187367fe2.jpg\n",
      "r: https://a0.muscache.com/im/pictures/5783a8e8-a44f-430e-ba27-4eb187367fe2.jpg?im_w=720\n",
      "n: 5783a8e8-a44f-430e-ba27-4eb187367fe2.jpg\n",
      "img: https://a0.muscache.com/im/pictures/7e61a703-a97f-4625-9242-3f4ad916423b.jpg?im_w=720\n",
      "f: https://a0.muscache.com/im/pictures/7e61a703-a97f-4625-9242-3f4ad916423b.jpg\n",
      "r: https://a0.muscache.com/im/pictures/7e61a703-a97f-4625-9242-3f4ad916423b.jpg?im_w=720\n",
      "n: 7e61a703-a97f-4625-9242-3f4ad916423b.jpg\n",
      "img: https://a0.muscache.com/im/pictures/887cd387-2ac5-481f-91fb-da0346d2679d.jpg?im_w=720\n",
      "f: https://a0.muscache.com/im/pictures/887cd387-2ac5-481f-91fb-da0346d2679d.jpg\n",
      "r: https://a0.muscache.com/im/pictures/887cd387-2ac5-481f-91fb-da0346d2679d.jpg?im_w=720\n",
      "n: 887cd387-2ac5-481f-91fb-da0346d2679d.jpg\n",
      "img: https://a0.muscache.com/im/pictures/9f1e3f48-a9e5-458c-8950-f1bedd51ca50.jpg?im_w=720\n",
      "f: https://a0.muscache.com/im/pictures/9f1e3f48-a9e5-458c-8950-f1bedd51ca50.jpg\n",
      "r: https://a0.muscache.com/im/pictures/9f1e3f48-a9e5-458c-8950-f1bedd51ca50.jpg?im_w=720\n",
      "n: 9f1e3f48-a9e5-458c-8950-f1bedd51ca50.jpg\n",
      "img: https://a0.muscache.com/im/pictures/4bab3b59-d00e-400a-8e38-6ad2335d8933.jpg?im_w=720\n",
      "f: https://a0.muscache.com/im/pictures/4bab3b59-d00e-400a-8e38-6ad2335d8933.jpg\n",
      "r: https://a0.muscache.com/im/pictures/4bab3b59-d00e-400a-8e38-6ad2335d8933.jpg?im_w=720\n",
      "n: 4bab3b59-d00e-400a-8e38-6ad2335d8933.jpg\n",
      "img: https://a0.muscache.com/im/pictures/53290a5f-e862-462f-bd5b-7ee37f231751.jpg?im_w=720\n",
      "f: https://a0.muscache.com/im/pictures/53290a5f-e862-462f-bd5b-7ee37f231751.jpg\n",
      "r: https://a0.muscache.com/im/pictures/53290a5f-e862-462f-bd5b-7ee37f231751.jpg?im_w=720\n",
      "n: 53290a5f-e862-462f-bd5b-7ee37f231751.jpg\n",
      "img: https://a0.muscache.com/im/pictures/0f10adf7-ed6f-4d7a-af43-694716d72e38.jpg?im_w=720\n",
      "f: https://a0.muscache.com/im/pictures/0f10adf7-ed6f-4d7a-af43-694716d72e38.jpg\n",
      "r: https://a0.muscache.com/im/pictures/0f10adf7-ed6f-4d7a-af43-694716d72e38.jpg?im_w=720\n",
      "n: 0f10adf7-ed6f-4d7a-af43-694716d72e38.jpg\n",
      "img: https://a0.muscache.com/im/pictures/032a727d-ec51-4c57-a119-7e6aab08ab30.jpg?im_w=720\n",
      "f: https://a0.muscache.com/im/pictures/032a727d-ec51-4c57-a119-7e6aab08ab30.jpg\n",
      "r: https://a0.muscache.com/im/pictures/032a727d-ec51-4c57-a119-7e6aab08ab30.jpg?im_w=720\n",
      "n: 032a727d-ec51-4c57-a119-7e6aab08ab30.jpg\n",
      "img: https://a0.muscache.com/im/pictures/cf547aef-6b47-4f86-9b36-95631ee3a0d1.jpg?im_w=720\n",
      "f: https://a0.muscache.com/im/pictures/cf547aef-6b47-4f86-9b36-95631ee3a0d1.jpg\n",
      "r: https://a0.muscache.com/im/pictures/cf547aef-6b47-4f86-9b36-95631ee3a0d1.jpg?im_w=720\n",
      "n: cf547aef-6b47-4f86-9b36-95631ee3a0d1.jpg\n"
     ]
    }
   ],
   "source": [
    "driver.find_element(by=By.XPATH, value='//*[@id=\"site-content\"]/div/div[1]/div[1]/div[2]/div/div/div/div/div/div/div/div[2]/button').click()\n",
    "time.sleep(3)\n",
    "# driver.find_element(by=By.TAG_NAME,value=\"body\").send_keys(Keys.PAGE_DOWN)\n",
    "# driver.execute_script(\"window.scrollTo(0,document.body.scrollHeight)\")\n",
    "images = driver.find_element(by=By.XPATH, value='/html/body/div[11]/section/div/div/div[2]/div/div/div/div/div/section/div/div/div[2]/div/div[2]/section/div/div[1]/div/section/div')\n",
    "img_path = []\n",
    "for img in images.find_elements(by=By.TAG_NAME,value='img'):\n",
    "    img_urls = img.get_attribute('src')\n",
    "    print(\"img:\",img_urls)\n",
    "    \n",
    "    img_urls_firstname = '/'.join(img_urls.split('?')[:-1])\n",
    "#     img_urls_firstname = \"/\".join(img_urls.split('?'))\n",
    "    print(\"f:\",img_urls_firstname)\n",
    "    img_urls_rename = img_urls_firstname + '?im_w=720'\n",
    "    print(\"r:\",img_urls_rename)\n",
    "    img_name = '@'.join(img_urls_firstname.split('/')[-1:])\n",
    "    print(\"n:\",img_name)\n",
    "    r = requests.get(img_urls_rename)\n",
    "    i = Image.open(BytesIO(r.content))\n",
    "    i.save(f\"images/{img_name}\")\n",
    "    img_path.append(img_name)\n",
    "driver.find_element(by=By.XPATH, value='/html/body/div[11]/section/div/div/div[2]/div/div/div/div/div/section/div/div/div[2]/div/div[1]/div[1]/button').click()\n"
   ]
  },
  {
   "cell_type": "code",
   "execution_count": 43,
   "id": "c14c30f4",
   "metadata": {},
   "outputs": [
    {
     "data": {
      "text/plain": [
       "'Kwang\\nDecember 2021\\nSome part of building was not repair and some was old,not like when it open project.\\nJeffrey\\nDecember 2021\\nclean, well kept\\nSharon\\nApril 2021\\nWe where disappointed. The pictures looked really nice but that was about all. The place wasn’t sufficiently cleaned. Especially the in and outside the cabinets and the cooking utensils.\\n\\nI had to clean that myself first to be able to life in. Especially the inside of the kitchen cabinets where a disaster and had drawn a lot of ants, so I had to go and buy a product to keep them out.\\n\\nOnly 1 pot and 1 pan is very little. Also is 1 roll of toilet paper. If they would say they don’t provide toilet paper and soap I would have been fine with it. But don’t say you do and then provide the minimum.\\nShow more\\nPitsapong\\nApril 2020\\nKhun Thanita, has great responsibility and ethics in conducting business. Due to the outbreak of COVID-19, which was a force majeure that prevented me from staying in her accommodation. She fully refunded my accommodation. Which impressed me with the kindness and running of her business to the utmost.\\nKOi\\nMarch 2020\\nLove the place, very cozy and homey!\\nCho\\nFebruary 2020\\nNice Place same as photo , Thanita so kindness host, will be back again!'"
      ]
     },
     "execution_count": 43,
     "metadata": {},
     "output_type": "execute_result"
    }
   ],
   "source": [
    "reviews = driver.find_element(by=By.XPATH, value='//*[@id=\"site-content\"]/div/div[1]/div[4]/div/div/div/div[2]/section/div[3]')\n",
    "reviews.text"
   ]
  },
  {
   "cell_type": "code",
   "execution_count": 99,
   "id": "65c974b7",
   "metadata": {
    "collapsed": true
   },
   "outputs": [
    {
     "data": {
      "text/plain": [
       "['Faris',\n",
       " 'August 2022',\n",
       " 'It was nice',\n",
       " 'Palm',\n",
       " 'August 2022',\n",
       " 'good place but elevator are not enough',\n",
       " 'Kay',\n",
       " 'August 2022',\n",
       " 'I haven\\'t given a 2 star review to any business till date, this would be my first one.To start off, during our 5 day stay at the place, no one had come to clean the place during our stay. Upon asking about it, the host said that cleaning was done before checking in already (which by the way is a requirement, not an extra service) I screenshot our entire conversation and sent it to him, and it seems like his English was poor that he didnt even understand what he replied \"yes\" to. So I tried to ask him for fresh towels, no need for the cleaning as the conversation wasnt going anywhere. He told me fresh towels each time would be 300฿(50฿×6). I went to buy my own towels. At this point, I wasnt feeling good about communicating with him.',\n",
       " '',\n",
       " 'And a bigger issue arises. The airconditioner on the master bedroom (which me my husband and 2 young children were sleeping in) started making really loud sounds, I went to sleep out on the sofa hoping the kids wouldnt wake up and hoping that it was just a temporary issue We shut the air in the morning, and went back to sleep without it. (Also, atleast 3 remotes (ac,tv) werent working in the house probably didnt change batteries.)',\n",
       " '',\n",
       " 'The next day we were out most of the day and at some point we came back and turn3d on the ac of master for 10 mins, there was no sound so we thought ok maybe it wont happen again. We went out again and came back, got ready to sleep, 15 minutes into turning the ac, the loud sounds came again. This time much louder, and it started leaking near plugpoints. ( It was really loud, not the sound of a minor issue.) so this is 10pm and nobody couldve come fixed the ac at this point. We decided to all sleep on the floor of the living room. ALSO, the master doesnt have a bedroom door, so we were still hearing the loud sounds! The next day (the day of checkout) i messaged the host about it. The cleaner and the building maintenance staff came to see the situation , we spoke in Thai and they asked me, how I managed to sleep here. And The host decided to not reply to my chat or didnt take any responsibility for what had happened. He said it had never happened before and maybe it was just minor? The building staff and maid told me the air needs to be removed and piping needs to be completely redone, so clearly its not a minor issue! He just dismissed my complaint entirely, and hadnt answered my chat. The view was beautiful from the living and thats the only reason for not giving a 1 star review.',\n",
       " ':(',\n",
       " 'Show more',\n",
       " 'Anh',\n",
       " 'July 2022',\n",
       " 'Nice house near the ocean',\n",
       " 'Palesa',\n",
       " 'July 2022',\n",
       " 'This is a lovely property in a great location.',\n",
       " 'Panuvat',\n",
       " 'June 2022',\n",
       " 'Fabulous place to get relax at Pattaya. The overall I give 4.5/5 everything is as beautiful as it shown on pictures air condition is leaked and damaged the wall paper does not matter with stay. Good place to stay anyway']"
      ]
     },
     "execution_count": 99,
     "metadata": {},
     "output_type": "execute_result"
    }
   ],
   "source": [
    "reviews.text.split('\\n')"
   ]
  },
  {
   "cell_type": "code",
   "execution_count": null,
   "id": "fc376e2f",
   "metadata": {},
   "outputs": [],
   "source": []
  },
  {
   "cell_type": "code",
   "execution_count": 2,
   "id": "516a21fe",
   "metadata": {},
   "outputs": [
    {
     "name": "stdout",
     "output_type": "stream",
     "text": [
      "https://www.airbnb.com/?tab_id=home_tab&refinement_paths%5B%5D=%2Fhomes&search_mode=flex_destinations_search&flexible_trip_lengths%5B%5D=one_week&location_search=MIN_MAP_BOUNDS&price_filter_input_type=0&search_type=category_change&category_tag=Tag%3A7769&drawer_open=false\n",
      "pro: ['https://www.airbnb.com/rooms/30110488?adults=1&category_tag=Tag%3A7769&children=0&infants=0&search_mode=flex_destinations_search&check_in=2023-01-01&check_out=2023-01-06&previous_page_section_name=1000&federated_search_id=b7799fb4-a9d3-4bec-9244-e0dab7078107', 'https://www.airbnb.com/rooms/32120931?adults=1&category_tag=Tag%3A7769&children=0&infants=0&search_mode=flex_destinations_search&check_in=2022-10-04&check_out=2022-10-10&previous_page_section_name=1000&federated_search_id=b7799fb4-a9d3-4bec-9244-e0dab7078107', 'https://www.airbnb.com/rooms/14561048?adults=1&category_tag=Tag%3A7769&children=0&infants=0&search_mode=flex_destinations_search&check_in=2022-10-10&check_out=2022-10-15&previous_page_section_name=1000&federated_search_id=b7799fb4-a9d3-4bec-9244-e0dab7078107', 'https://www.airbnb.com/rooms/36372659?adults=1&category_tag=Tag%3A7769&children=0&infants=0&search_mode=flex_destinations_search&check_in=2022-10-05&check_out=2022-10-10&previous_page_section_name=1000&federated_search_id=b7799fb4-a9d3-4bec-9244-e0dab7078107', 'https://www.airbnb.com/rooms/8522934?adults=1&category_tag=Tag%3A7769&children=0&infants=0&search_mode=flex_destinations_search&check_in=2022-11-11&check_out=2022-11-16&previous_page_section_name=1000&federated_search_id=b7799fb4-a9d3-4bec-9244-e0dab7078107', 'https://www.airbnb.com/rooms/52786818?adults=1&category_tag=Tag%3A7769&children=0&infants=0&search_mode=flex_destinations_search&check_in=2022-10-10&check_out=2022-10-15&previous_page_section_name=1000&federated_search_id=b7799fb4-a9d3-4bec-9244-e0dab7078107', 'https://www.airbnb.com/rooms/43479054?adults=1&category_tag=Tag%3A7769&children=0&infants=0&search_mode=flex_destinations_search&check_in=2022-10-31&check_out=2022-11-05&previous_page_section_name=1000&federated_search_id=b7799fb4-a9d3-4bec-9244-e0dab7078107', 'https://www.airbnb.com/rooms/40869038?adults=1&category_tag=Tag%3A7769&children=0&infants=0&search_mode=flex_destinations_search&check_in=2022-10-08&check_out=2022-10-13&previous_page_section_name=1000&federated_search_id=b7799fb4-a9d3-4bec-9244-e0dab7078107', 'https://www.airbnb.com/rooms/33172470?adults=1&category_tag=Tag%3A7769&children=0&infants=0&search_mode=flex_destinations_search&check_in=2022-10-15&check_out=2022-10-20&previous_page_section_name=1000&federated_search_id=b7799fb4-a9d3-4bec-9244-e0dab7078107', 'https://www.airbnb.com/rooms/48116280?adults=1&category_tag=Tag%3A7769&children=0&infants=0&search_mode=flex_destinations_search&check_in=2022-10-19&check_out=2022-10-24&previous_page_section_name=1000&federated_search_id=b7799fb4-a9d3-4bec-9244-e0dab7078107', 'https://www.airbnb.com/rooms/28298543?adults=1&category_tag=Tag%3A7769&children=0&infants=0&search_mode=flex_destinations_search&check_in=2022-10-19&check_out=2022-10-24&previous_page_section_name=1000&federated_search_id=b7799fb4-a9d3-4bec-9244-e0dab7078107', 'https://www.airbnb.com/rooms/23171347?adults=1&category_tag=Tag%3A7769&children=0&infants=0&search_mode=flex_destinations_search&check_in=2022-10-05&check_out=2022-10-12&previous_page_section_name=1000&federated_search_id=b7799fb4-a9d3-4bec-9244-e0dab7078107', 'https://www.airbnb.com/rooms/30157976?adults=1&category_tag=Tag%3A7769&children=0&infants=0&search_mode=flex_destinations_search&check_in=2022-10-04&check_out=2022-10-09&previous_page_section_name=1000&federated_search_id=b7799fb4-a9d3-4bec-9244-e0dab7078107', 'https://www.airbnb.com/rooms/21673458?adults=1&category_tag=Tag%3A7769&children=0&infants=0&search_mode=flex_destinations_search&check_in=2022-10-12&check_out=2022-10-19&previous_page_section_name=1000&federated_search_id=b7799fb4-a9d3-4bec-9244-e0dab7078107', 'https://www.airbnb.com/rooms/22380395?adults=1&category_tag=Tag%3A7769&children=0&infants=0&search_mode=flex_destinations_search&check_in=2022-10-04&check_out=2022-10-11&previous_page_section_name=1000&federated_search_id=b7799fb4-a9d3-4bec-9244-e0dab7078107', 'https://www.airbnb.com/rooms/30683129?adults=1&category_tag=Tag%3A7769&children=0&infants=0&search_mode=flex_destinations_search&check_in=2022-11-19&check_out=2022-11-24&previous_page_section_name=1000&federated_search_id=b7799fb4-a9d3-4bec-9244-e0dab7078107', 'https://www.airbnb.com/rooms/12350294?adults=1&category_tag=Tag%3A7769&children=0&infants=0&search_mode=flex_destinations_search&check_in=2022-10-11&check_out=2022-10-17&previous_page_section_name=1000&federated_search_id=b7799fb4-a9d3-4bec-9244-e0dab7078107', 'https://www.airbnb.com/rooms/4106176?adults=1&category_tag=Tag%3A7769&children=0&infants=0&search_mode=flex_destinations_search&check_in=2023-01-16&check_out=2023-01-21&previous_page_section_name=1000&federated_search_id=b7799fb4-a9d3-4bec-9244-e0dab7078107', 'https://www.airbnb.com/rooms/plus/4952228?adults=1&category_tag=Tag%3A7769&children=0&infants=0&search_mode=flex_destinations_search&check_in=2022-10-05&check_out=2022-10-11&previous_page_section_name=1000&federated_search_id=b7799fb4-a9d3-4bec-9244-e0dab7078107', 'https://www.airbnb.com/rooms/28628648?adults=1&category_tag=Tag%3A7769&children=0&infants=0&search_mode=flex_destinations_search&check_in=2023-05-01&check_out=2023-05-06&previous_page_section_name=1000&federated_search_id=b7799fb4-a9d3-4bec-9244-e0dab7078107']\n",
      "l: 20\n",
      "7.923737525939941\n"
     ]
    }
   ],
   "source": [
    "s = Service('chromedriver')\n",
    "driver = webdriver.Chrome(service=s)\n",
    "start = time.time()\n",
    "\n",
    "beach = 'https://www.airbnb.com/?tab_id=home_tab&refinement_paths%5B%5D=%2Fhomes&search_mode=flex_destinations_search&flexible_trip_lengths%5B%5D=one_week&location_search=MIN_MAP_BOUNDS&price_filter_input_type=0&search_type=category_change&category_tag=Tag%3A7769&drawer_open=false'\n",
    "print(beach)\n",
    "\n",
    "driver.get(beach)\n",
    "time.sleep(5)\n",
    "ScrollNumber = 100\n",
    "for i in range(1,ScrollNumber):\n",
    "    driver.execute_script(\"window.scrollTo(1,50000)\")\n",
    "    time.sleep(5)\n",
    "    single_link= driver.find_elements(by=By.CLASS_NAME,value=\"ln2bl2p\")\n",
    "len(single_link)\n",
    "beach_urls = [p.get_attribute('href') for p in single_link]\n",
    "beach_urls\n",
    "# urls = driver.find_elements(by=By.XPATH, value=f'//*[@id=\"site-content\"]/div[2]/div/div/div/div/div/div/div/div[1]/div/div[2]/div/div/div/div[1]/a')\n",
    "urls= driver.find_elements(by=By.CLASS_NAME,value=\"ln2bl2p\")\n",
    "pro_urls = [p.get_attribute('href') for p in urls]\n",
    "print(\"pro:\",pro_urls)\n",
    "print(\"l:\",len(pro_urls))\n",
    "print(time.time()-start)\n"
   ]
  },
  {
   "cell_type": "code",
   "execution_count": 4,
   "id": "28056398",
   "metadata": {},
   "outputs": [],
   "source": [
    "with open('category_urls/beach_urls.txt', 'w') as f:\n",
    "    for s in pro_urls:\n",
    "        f.write(s)\n",
    "        f.write('\\n')"
   ]
  },
  {
   "cell_type": "code",
   "execution_count": null,
   "id": "364745c7",
   "metadata": {},
   "outputs": [],
   "source": [
    "def title_scrap(driver):\n",
    "    try:\n",
    "        title = driver.find_element(by=By.TAG_NAME, value='h1').text\n",
    "        print(\"Title: \", title)\n",
    "        return title        \n",
    "    except:\n",
    "        print(\"Beach Not found!\")\n",
    "        return None"
   ]
  },
  {
   "cell_type": "code",
   "execution_count": null,
   "id": "b185f402",
   "metadata": {},
   "outputs": [],
   "source": [
    "def price_scrap(driver):\n",
    "    price = driver.find_element(by=By.XPATH, value='//*[@id=\"site-content\"]/div/div[1]/div[3]/div/div[2]/div/div/div[1]/div/div/div/div/div/div/div[1]/div[1]/div[1]/div/span/div/span[1]').text\n",
    "    print(\"Price: \", price)\n",
    "\n",
    "    return price"
   ]
  },
  {
   "cell_type": "code",
   "execution_count": null,
   "id": "0ac4be03",
   "metadata": {},
   "outputs": [],
   "source": []
  }
 ],
 "metadata": {
  "kernelspec": {
   "display_name": "Python 3 (ipykernel)",
   "language": "python",
   "name": "python3"
  },
  "language_info": {
   "codemirror_mode": {
    "name": "ipython",
    "version": 3
   },
   "file_extension": ".py",
   "mimetype": "text/x-python",
   "name": "python",
   "nbconvert_exporter": "python",
   "pygments_lexer": "ipython3",
   "version": "3.9.7"
  }
 },
 "nbformat": 4,
 "nbformat_minor": 5
}
