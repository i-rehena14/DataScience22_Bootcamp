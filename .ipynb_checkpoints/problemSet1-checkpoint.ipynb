{
 "cells": [
  {
   "cell_type": "code",
   "execution_count": 5,
   "id": "3871ee4f",
   "metadata": {},
   "outputs": [
    {
     "name": "stdout",
     "output_type": "stream",
     "text": [
      "Hello World!\n"
     ]
    }
   ],
   "source": [
    "# Hello World!\n",
    "print(\"Hello World!\")"
   ]
  },
  {
   "cell_type": "code",
   "execution_count": 11,
   "id": "91912eed",
   "metadata": {},
   "outputs": [
    {
     "name": "stdout",
     "output_type": "stream",
     "text": [
      "3\n",
      "4\n",
      "X = 7\n"
     ]
    }
   ],
   "source": [
    "# Extremely Basic\n",
    "A=int(input())\n",
    "B=int(input())\n",
    "X=A+B\n",
    "print(\"X =\",X)"
   ]
  },
  {
   "cell_type": "code",
   "execution_count": 20,
   "id": "a5b9d543",
   "metadata": {},
   "outputs": [
    {
     "name": "stdout",
     "output_type": "stream",
     "text": [
      "150.00\n",
      "A=70685.7750\n"
     ]
    }
   ],
   "source": [
    "# Area of a Circle\n",
    "R=float(input())\n",
    "n=3.14159\n",
    "A=n*(R*R)\n",
    "print(\"A=%.4f\" % A)"
   ]
  },
  {
   "cell_type": "code",
   "execution_count": 23,
   "id": "9e9c1fac",
   "metadata": {
    "collapsed": true
   },
   "outputs": [
    {
     "name": "stdout",
     "output_type": "stream",
     "text": [
      "-30\n",
      "10\n",
      "SOMA = -20\n"
     ]
    }
   ],
   "source": [
    "# Simple Sum\n",
    "A=int(input())\n",
    "B=int(input())\n",
    "SOMA=A+B\n",
    "print(\"SOMA =\",SOMA)"
   ]
  },
  {
   "cell_type": "code",
   "execution_count": 25,
   "id": "de85981f",
   "metadata": {
    "collapsed": true
   },
   "outputs": [
    {
     "name": "stdout",
     "output_type": "stream",
     "text": [
      "-30\n",
      "9\n",
      "PROD = -270\n"
     ]
    }
   ],
   "source": [
    "# Simple Product\n",
    "A=int(input())\n",
    "B=int(input())\n",
    "PROD=A*B\n",
    "print(\"PROD =\",PROD)"
   ]
  },
  {
   "cell_type": "code",
   "execution_count": 39,
   "id": "02e5657b",
   "metadata": {
    "collapsed": true
   },
   "outputs": [
    {
     "name": "stdout",
     "output_type": "stream",
     "text": [
      "5.0\n",
      "7.1\n",
      "MEDIA = 6.43182\n"
     ]
    }
   ],
   "source": [
    "# Average 1\n",
    "A=float(input())\n",
    "B=float(input())\n",
    "MEDIA=((A*3.5)+(B*7.5))/(3.5+7.5)\n",
    "print(\"MEDIA = %.5f\" % MEDIA)"
   ]
  },
  {
   "cell_type": "code",
   "execution_count": 49,
   "id": "66cdc789",
   "metadata": {
    "collapsed": true
   },
   "outputs": [
    {
     "name": "stdout",
     "output_type": "stream",
     "text": [
      "5.0\n",
      "6.0\n",
      "7.0\n",
      "MEDIA = 6.3\n"
     ]
    }
   ],
   "source": [
    "# Average 2\n",
    "A=float(input())\n",
    "B=float(input())\n",
    "C=float(input())\n",
    "MEDIA=((A*2)+(B*3)+(C*5))/(2+3+5)\n",
    "print(\"MEDIA = %.1f\" % MEDIA)"
   ]
  },
  {
   "cell_type": "code",
   "execution_count": 53,
   "id": "ad15235a",
   "metadata": {
    "collapsed": true
   },
   "outputs": [
    {
     "name": "stdout",
     "output_type": "stream",
     "text": [
      "5\n",
      "6\n",
      "8\n",
      "7\n",
      "DIFERENCA = -26\n"
     ]
    }
   ],
   "source": [
    "# Difference\n",
    "A=int(input())\n",
    "B=int(input())\n",
    "C=int(input())\n",
    "D=int(input())\n",
    "DIFERENCA = (A*B)-(C*D)\n",
    "print(\"DIFERENCA =\",DIFERENCA )"
   ]
  },
  {
   "cell_type": "code",
   "execution_count": 60,
   "id": "908b54c5",
   "metadata": {
    "collapsed": true
   },
   "outputs": [
    {
     "name": "stdout",
     "output_type": "stream",
     "text": [
      "2\n",
      "200\n",
      ".09\n",
      "NUMBER = 2\n",
      "SALARY = U$ 18.00\n"
     ]
    }
   ],
   "source": [
    "# Salary\n",
    "Number=int(input())\n",
    "worked_hour=int(input())\n",
    "recieved_per_hour=float(input())\n",
    "SALARY = worked_hour*recieved_per_hour\n",
    "print(\"NUMBER =\",Number )\n",
    "print(\"SALARY = U$ %.2f\" %SALARY )"
   ]
  },
  {
   "cell_type": "code",
   "execution_count": 63,
   "id": "285ce492",
   "metadata": {
    "collapsed": true
   },
   "outputs": [
    {
     "name": "stdout",
     "output_type": "stream",
     "text": [
      "we\n",
      "1700.00\n",
      "1230.50\n",
      "TOTAL = R$ 1884.58\n"
     ]
    }
   ],
   "source": [
    "# Salary with Bonus\n",
    "Name=input()\n",
    "salary=float(input())\n",
    "sales=float(input())\n",
    "total = (sales*0.15)+salary\n",
    "print(\"TOTAL = R$ %.2f\" %total )"
   ]
  },
  {
   "cell_type": "code",
   "execution_count": 82,
   "id": "87073be3",
   "metadata": {},
   "outputs": [
    {
     "name": "stdout",
     "output_type": "stream",
     "text": [
      "12 1 5.30\n",
      "16 2 5.10\n",
      "VALOR A PAGAR: R$ 15.50\n"
     ]
    }
   ],
   "source": [
    "# Simple Calculate\n",
    "prod1 = input().split(\" \")\n",
    "prod2 = input().split(\" \")\n",
    "code1, u1, price1 = prod1\n",
    "code2, u2, price2 = prod2\n",
    "total = (int(u1) * float(price1)) + (int(u2) * float(price2))\n",
    "print(f'VALOR A PAGAR: R$ {total:.2f}')        "
   ]
  },
  {
   "cell_type": "code",
   "execution_count": 4,
   "id": "6a98d199",
   "metadata": {
    "collapsed": true
   },
   "outputs": [
    {
     "name": "stdout",
     "output_type": "stream",
     "text": [
      "1523\n",
      "VOLUME = 14797486501.627\n"
     ]
    }
   ],
   "source": [
    "# Sphere\n",
    "R=float(input())\n",
    "n=3.14159\n",
    "v=(4/3.0)*n*R*R*R\n",
    "print(\"VOLUME = %.3f\"%v)"
   ]
  },
  {
   "cell_type": "code",
   "execution_count": 6,
   "id": "2abe6f19",
   "metadata": {
    "collapsed": true
   },
   "outputs": [
    {
     "name": "stdout",
     "output_type": "stream",
     "text": [
      "3.0 4.0 5.2\n",
      "TRIANGULO: 7.800\n",
      "CIRCULO: 84.949\n",
      "TRAPEZIO: 18.200\n",
      "QUADRADO: 16.000\n",
      "RETANGULO: 12.000\n"
     ]
    }
   ],
   "source": [
    "# Area\n",
    "\n",
    "val = input().split(\" \")\n",
    "A,B,C=val\n",
    "tri=0.5*float(A)*float(C)\n",
    "cir=3.14159*float(C)*float(C)\n",
    "trap=0.5*(float(A)+float(B))*float(C)\n",
    "sq=float(B)*float(B)\n",
    "rec=float(A)*float(B)\n",
    "print(\"TRIANGULO: %.3f\"%tri)\n",
    "print(\"CIRCULO: %.3f\"%cir)\n",
    "print(\"TRAPEZIO: %.3f\"%trap)\n",
    "print(\"QUADRADO: %.3f\"%sq)\n",
    "print(\"RETANGULO: %.3f\"%rec)"
   ]
  },
  {
   "cell_type": "code",
   "execution_count": 28,
   "id": "eb338007",
   "metadata": {
    "collapsed": true
   },
   "outputs": [
    {
     "name": "stdout",
     "output_type": "stream",
     "text": [
      "12 333 33331\n",
      "33331 eh o maior\n"
     ]
    }
   ],
   "source": [
    "# The Greatest\n",
    "import math\n",
    "value = input().split(\" \")\n",
    "A,B,C=value\n",
    "greatest = (int(A) + int(B) + abs(int(A) - int(B)))  / 2\n",
    "result = (int(greatest) + int(C) + abs(int(greatest) - int(C)))/2\n",
    "print(\"%d eh o maior\" %result)"
   ]
  },
  {
   "cell_type": "code",
   "execution_count": 29,
   "id": "dbd3da51",
   "metadata": {
    "collapsed": true
   },
   "outputs": [
    {
     "name": "stdout",
     "output_type": "stream",
     "text": [
      "500\n",
      "35.0\n",
      "14.286 km/l\n"
     ]
    }
   ],
   "source": [
    "# Consumption\n",
    "distance = int(input())\n",
    "fuel = float(input())\n",
    "consumption = distance / fuel\n",
    "print(f'{consumption:.3f} km/l')"
   ]
  },
  {
   "cell_type": "code",
   "execution_count": 30,
   "id": "f9fd52fc",
   "metadata": {
    "collapsed": true
   },
   "outputs": [
    {
     "name": "stdout",
     "output_type": "stream",
     "text": [
      "1.0 7.0\n",
      "5.0 9.0\n",
      "4.4721\n"
     ]
    }
   ],
   "source": [
    "# Distance Between Two Points\n",
    "import math\n",
    "x1,y1=list(map(float,input().split()))                              \n",
    "x2,y2=list(map(float,input().split()))\n",
    "distance = math.sqrt(pow(x2-x1,2)+pow(y2-y1,2))\n",
    "print(f'{distance:0.4f}')"
   ]
  },
  {
   "cell_type": "code",
   "execution_count": 32,
   "id": "4045f68c",
   "metadata": {
    "collapsed": true
   },
   "outputs": [
    {
     "name": "stdout",
     "output_type": "stream",
     "text": [
      "22\n",
      "44 minutos\n"
     ]
    }
   ],
   "source": [
    "# Distance\n",
    "distance=int(input())\n",
    "minutes=distance*2\n",
    "print(f'{minutes} minutos')"
   ]
  },
  {
   "cell_type": "code",
   "execution_count": 34,
   "id": "6d20420c",
   "metadata": {
    "collapsed": true
   },
   "outputs": [
    {
     "name": "stdout",
     "output_type": "stream",
     "text": [
      "2\n",
      "92\n",
      "15.333\n"
     ]
    }
   ],
   "source": [
    "# Fuel Spent\n",
    "time = int(input());\n",
    "average_speed = int(input());\n",
    "\n",
    "liters = (average_speed*time)/12;\n",
    "print(f'{liters:.3f}')"
   ]
  },
  {
   "cell_type": "code",
   "execution_count": 36,
   "id": "981c7e4d",
   "metadata": {
    "collapsed": true
   },
   "outputs": [
    {
     "name": "stdout",
     "output_type": "stream",
     "text": [
      "576\n",
      "576\n",
      "5 nota(s) de R$ 100,00\n",
      "1 nota(s) de R$ 50,00\n",
      "1 nota(s) de R$ 20,00\n",
      "0 nota(s) de R$ 10,00\n",
      "1 nota(s) de R$ 5,00\n",
      "0 nota(s) de R$ 2,00\n",
      "1 nota(s) de R$ 1,00\n"
     ]
    }
   ],
   "source": [
    "# Banknotes\n",
    "notes = int(input())\n",
    "print(notes)\n",
    "print(\"{} nota(s) de R$ 100,00\".format(int(notes/100)))\n",
    "x = (notes%100)\n",
    "print(\"{} nota(s) de R$ 50,00\".format(int(x/50)))\n",
    "x = (x%50)\n",
    "print(\"{} nota(s) de R$ 20,00\".format(int(x/20)))\n",
    "x = (x%20)\n",
    "print(\"{} nota(s) de R$ 10,00\".format(int(x/10)))\n",
    "x = (x%10)\n",
    "print(\"{} nota(s) de R$ 5,00\".format(int(x/5)))\n",
    "x = (x%5)\n",
    "print(\"{} nota(s) de R$ 2,00\".format(int(x/2)))\n",
    "x = (x%2)\n",
    "print(\"{} nota(s) de R$ 1,00\".format(int(x/1)))"
   ]
  },
  {
   "cell_type": "code",
   "execution_count": 39,
   "id": "63b3e422",
   "metadata": {
    "collapsed": true
   },
   "outputs": [
    {
     "name": "stdout",
     "output_type": "stream",
     "text": [
      "140153\n",
      "38:55:53\n"
     ]
    }
   ],
   "source": [
    "# Time Conversion\n",
    "seconds = int(input());\n",
    "\n",
    "minutes = int(seconds/60);\n",
    "seconds -= minutes*60;\n",
    "hours = int(minutes/60);\n",
    "minutes -= hours*60;\n",
    "print(f'{hours}:{minutes}:{seconds}')"
   ]
  },
  {
   "cell_type": "code",
   "execution_count": 42,
   "id": "b3c07a07",
   "metadata": {
    "collapsed": true
   },
   "outputs": [
    {
     "name": "stdout",
     "output_type": "stream",
     "text": [
      "23233\n",
      "63 ano(s)\n",
      "7 mes(es)\n",
      "28 dia(s)\n"
     ]
    }
   ],
   "source": [
    "# Age in Days\n",
    "days = int(input())\n",
    "\n",
    "years = int(days/365)\n",
    "days -= years*365\n",
    "months = int(days/30)\n",
    "days -= months*30\n",
    "\n",
    "print(f'{years} ano(s)')\n",
    "print(f'{months} mes(es)')\n",
    "print(f'{days} dia(s)')"
   ]
  },
  {
   "cell_type": "code",
   "execution_count": 44,
   "id": "5b19cd14",
   "metadata": {},
   "outputs": [
    {
     "name": "stdout",
     "output_type": "stream",
     "text": [
      "576.73\n",
      "NOTAS:\n",
      "5 nota(s) de R$ 100.00\n",
      "1 nota(s) de R$ 50.00\n",
      "1 nota(s) de R$ 20.00\n",
      "0 nota(s) de R$ 10.00\n",
      "1 nota(s) de R$ 5.00\n",
      "0 nota(s) de R$ 2.00\n",
      "MOEDAS:\n",
      "1 moeda(s) de R$ 1.00\n",
      "1 moeda(s) de R$ 0.50\n",
      "0 moeda(s) de R$ 0.25\n",
      "2 moeda(s) de R$ 0.10\n",
      "0 moeda(s) de R$ 0.05\n",
      "3 moeda(s) de R$ 0.01\n"
     ]
    }
   ],
   "source": [
    "# Banknotes and Coins\n",
    "value=float(input())\n",
    "N=value\n",
    "a=N/100\n",
    "b=N%100\n",
    "c=b/50\n",
    "d=b%50\n",
    "e=d/20\n",
    "f=d%20\n",
    "g=f/10\n",
    "h=f%10\n",
    "i=h/5\n",
    "j=h%5\n",
    "k=j/2\n",
    "l=j%2\n",
    "\n",
    "E=value*100\n",
    "B=(int(E))\n",
    "m=B%100\n",
    "n=m/50\n",
    "o=m%50\n",
    "p=o/25\n",
    "q=o%25\n",
    "r=q/10\n",
    "s=q%10\n",
    "t=s/5\n",
    "u=s%5\n",
    "print(\"NOTAS:\")\n",
    "print(f\"{int(a)} nota(s) de R$ 100.00\")\n",
    "print(f\"{int(c)} nota(s) de R$ 50.00\")\n",
    "print(f\"{int(e)} nota(s) de R$ 20.00\")\n",
    "print(f\"{int(g)} nota(s) de R$ 10.00\")\n",
    "print(f\"{int(i)} nota(s) de R$ 5.00\")\n",
    "print(f\"{int(k)} nota(s) de R$ 2.00\")\n",
    "print(f\"MOEDAS:\")\n",
    "print(f\"{int(l)} moeda(s) de R$ 1.00\")\n",
    "print(f\"{int(n)} moeda(s) de R$ 0.50\")\n",
    "print(f\"{int(p)} moeda(s) de R$ 0.25\")\n",
    "print(f\"{int(r)} moeda(s) de R$ 0.10\")\n",
    "print(f\"{int(t)} moeda(s) de R$ 0.05\")\n",
    "print(f\"{int(u)} moeda(s) de R$ 0.01\")"
   ]
  },
  {
   "cell_type": "code",
   "execution_count": 47,
   "id": "8045efd5",
   "metadata": {
    "collapsed": true
   },
   "outputs": [
    {
     "name": "stdout",
     "output_type": "stream",
     "text": [
      "3 3 2 1\n",
      "Valores nao aceitos\n"
     ]
    }
   ],
   "source": [
    "# Selection Test 1\n",
    "a,b,c,d = map(int,input().split())\n",
    "if b>c and d>a and (c+d) > (a+b) and c>0 and d>0 and a%2 ==0:\n",
    "    print( \"Valores aceitos\")\n",
    "else:\n",
    "    print(\"Valores nao aceitos\")"
   ]
  },
  {
   "cell_type": "code",
   "execution_count": 48,
   "id": "efb3ffdf",
   "metadata": {},
   "outputs": [
    {
     "name": "stdout",
     "output_type": "stream",
     "text": [
      "10.0 20.1 5.1\n",
      "R1 = -0.29788\n",
      "R2 = -1.71212\n"
     ]
    }
   ],
   "source": [
    "# Bhaskara's Formula\n",
    "import math\n",
    "A,B,C = map(float,input().split())\n",
    "D = (B**2)-(4*A*C)\n",
    "if(D <0 or A==0):\n",
    "    print(\"Impossivel calcular\")\n",
    "else:\n",
    "    D=math.sqrt(D)\n",
    "    R1 = (-B+D)/(2*A)\n",
    "    R2 = (-B-D)/(2*A)\n",
    "    print(f'R1 = {R1:0.5f}\\nR2 = {R2:0.5f}')"
   ]
  },
  {
   "cell_type": "code",
   "execution_count": 51,
   "id": "f375424b",
   "metadata": {
    "collapsed": true
   },
   "outputs": [
    {
     "name": "stdout",
     "output_type": "stream",
     "text": [
      "-25.09\n",
      "Fora de intervalo\n"
     ]
    }
   ],
   "source": [
    "# Interval\n",
    "a = float(input())\n",
    "if a>75 and a<=100:\n",
    "    print(\"Intervalo (75,100]\")\n",
    "elif a>50 and a<=75:\n",
    "    print(\"Intervalo (50,75]\")\n",
    "elif a>25 and a<=50:\n",
    "    print(\"Intervalo (25,50]\")\n",
    "elif a>=0 and a<=25:\n",
    "    print(\"Intervalo [0,25]\")\n",
    "else:\n",
    "    print(\"Fora de intervalo\")"
   ]
  },
  {
   "cell_type": "code",
   "execution_count": null,
   "id": "d6610303",
   "metadata": {},
   "outputs": [],
   "source": []
  }
 ],
 "metadata": {
  "kernelspec": {
   "display_name": "Python 3 (ipykernel)",
   "language": "python",
   "name": "python3"
  },
  "language_info": {
   "codemirror_mode": {
    "name": "ipython",
    "version": 3
   },
   "file_extension": ".py",
   "mimetype": "text/x-python",
   "name": "python",
   "nbconvert_exporter": "python",
   "pygments_lexer": "ipython3",
   "version": "3.9.7"
  }
 },
 "nbformat": 4,
 "nbformat_minor": 5
}
