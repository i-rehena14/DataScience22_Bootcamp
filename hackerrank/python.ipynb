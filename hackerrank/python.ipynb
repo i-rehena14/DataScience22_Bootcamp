{
 "cells": [
  {
   "cell_type": "code",
   "execution_count": 1,
   "id": "6f573db0",
   "metadata": {},
   "outputs": [
    {
     "name": "stdout",
     "output_type": "stream",
     "text": [
      "3\n",
      "5\n",
      "8\n",
      "-2\n",
      "15\n"
     ]
    }
   ],
   "source": [
    "# arithmetic operators\n",
    "if __name__ == '__main__':\n",
    "    a = int(input())\n",
    "    b = int(input())\n",
    "s=a+b\n",
    "diff=a-b\n",
    "multi=a*b\n",
    "print(s)\n",
    "print(diff)\n",
    "print(multi)"
   ]
  },
  {
   "cell_type": "code",
   "execution_count": 2,
   "id": "00f92494",
   "metadata": {},
   "outputs": [
    {
     "name": "stdout",
     "output_type": "stream",
     "text": [
      "5\n",
      "3\n",
      "1\n",
      "1.6666666666666667\n"
     ]
    }
   ],
   "source": [
    "# Division\n",
    "if __name__ == '__main__':\n",
    "    a = int(input())\n",
    "    b = int(input())\n",
    "print(a//b)\n",
    "print(a/b)"
   ]
  },
  {
   "cell_type": "code",
   "execution_count": 3,
   "id": "a65c39d9",
   "metadata": {},
   "outputs": [
    {
     "name": "stdout",
     "output_type": "stream",
     "text": [
      "5\n",
      "0\n",
      "1\n",
      "4\n",
      "9\n",
      "16\n"
     ]
    }
   ],
   "source": [
    "# loops\n",
    "if __name__ == '__main__':\n",
    "    n = int(input())\n",
    "for i in range(0,n):\n",
    "    print(i*i)\n",
    "    "
   ]
  },
  {
   "cell_type": "code",
   "execution_count": 5,
   "id": "33081764",
   "metadata": {},
   "outputs": [
    {
     "name": "stdout",
     "output_type": "stream",
     "text": [
      "1992\n",
      "True\n"
     ]
    }
   ],
   "source": [
    "# write a function\n",
    "def is_leap(year):\n",
    "    leap = False\n",
    "    \n",
    "    if (year%4==0):\n",
    "        leap=True\n",
    "        if(year%100==0 and year%400 !=0):\n",
    "            return False\n",
    "        elif(year%100==0):\n",
    "            return True\n",
    "    return leap\n",
    "\n",
    "year = int(input())\n",
    "print(is_leap(year))"
   ]
  },
  {
   "cell_type": "code",
   "execution_count": 14,
   "id": "544f579b",
   "metadata": {},
   "outputs": [
    {
     "name": "stdout",
     "output_type": "stream",
     "text": [
      "5\n",
      "12345"
     ]
    }
   ],
   "source": [
    "# print function\n",
    "if __name__ == '__main__':\n",
    "    n = int(input())\n",
    "for i in range(1,n+1):\n",
    "    print(i,end='')"
   ]
  },
  {
   "cell_type": "code",
   "execution_count": null,
   "id": "34d5e306",
   "metadata": {},
   "outputs": [],
   "source": [
    "# "
   ]
  }
 ],
 "metadata": {
  "kernelspec": {
   "display_name": "Python 3 (ipykernel)",
   "language": "python",
   "name": "python3"
  },
  "language_info": {
   "codemirror_mode": {
    "name": "ipython",
    "version": 3
   },
   "file_extension": ".py",
   "mimetype": "text/x-python",
   "name": "python",
   "nbconvert_exporter": "python",
   "pygments_lexer": "ipython3",
   "version": "3.9.7"
  }
 },
 "nbformat": 4,
 "nbformat_minor": 5
}
