{
 "cells": [
  {
   "cell_type": "code",
   "execution_count": 2,
   "id": "6647e11d",
   "metadata": {},
   "outputs": [
    {
     "name": "stdout",
     "output_type": "stream",
     "text": [
      "4 3\n",
      "Total: R$ 6.00\n"
     ]
    }
   ],
   "source": [
    "# Snack\n",
    "X,Y=list(map(int,input().split()))\n",
    "if(X == 1):\n",
    "    price  = (float) (4.00 * Y)\n",
    "elif(X == 2):\n",
    "    price  = (float) (4.50 * Y)\n",
    "elif(X == 3):\n",
    "    price  = (float) (5.00 * Y)\n",
    "elif (X == 4):\n",
    "    price  = (float) (2.00 * Y);\n",
    "elif (X == 5):\n",
    "    price  = (float) (1.50 * Y)\n",
    "print(f\"Total: R$ {price:.2f}\")"
   ]
  },
  {
   "cell_type": "code",
   "execution_count": 3,
   "id": "09898569",
   "metadata": {
    "collapsed": true
   },
   "outputs": [
    {
     "name": "stdout",
     "output_type": "stream",
     "text": [
      "2.0 4.0 7.5 8.0\n",
      "Media: 5.4\n",
      "Aluno em exame.\n",
      "6.4\n",
      "Nota do exame: 6.4\n",
      "Aluno aprovado.\n",
      "Media final: 5.9\n"
     ]
    }
   ],
   "source": [
    "# Average 3\n",
    "A,B,C,D = map(float,input().split())\n",
    "A = (A*2+B*3+C*4+D*1)/10\n",
    "print(f'Media: {A:.1f}')\n",
    "if A>=7.0:\n",
    "    print(\"Aluno aprovado.\")\n",
    "elif A<5.0:\n",
    "    print(\"Aluno reprovado.\")\n",
    "elif A>=5.0 and A<7.0:\n",
    "    print(\"Aluno em exame.\")\n",
    "    N = float(input())\n",
    "    print(f'Nota do exame: {N:.1f}')\n",
    "    N = (A+N)/2\n",
    "    if N>=5.0:\n",
    "        print(\"Aluno aprovado.\")\n",
    "        print(f'Media final: {N:.1f}')\n",
    "    else:\n",
    "        print(\"Aluno reprovado.\")\n",
    "        print(f'Media final: {N:.1f}')"
   ]
  },
  {
   "cell_type": "code",
   "execution_count": 6,
   "id": "3fa5642d",
   "metadata": {
    "collapsed": true
   },
   "outputs": [
    {
     "name": "stdout",
     "output_type": "stream",
     "text": [
      "6.8 8.9\n",
      "Q1\n"
     ]
    }
   ],
   "source": [
    "# Coordinates of a Point\n",
    "x,y=list(map(float,input().split()))\n",
    "if(x==0 and y==0):\n",
    "    print(\"Origem \")\n",
    "elif(x==0):\n",
    "    print(\"Eixo Y\")\n",
    "elif(y==0):\n",
    "    print(\"Eixo X\")\n",
    "elif(x>0 and y>0):\n",
    "    print(\"Q1\")\n",
    "elif(x<0 and y>0):\n",
    "    print(\"Q2\")\n",
    "elif(x<0 and y<0):\n",
    "    print(\"Q3\")\n",
    "elif(x>0 and y<0):\n",
    "    print(\"Q4\")"
   ]
  },
  {
   "cell_type": "code",
   "execution_count": 9,
   "id": "e7a56781",
   "metadata": {
    "collapsed": true
   },
   "outputs": [
    {
     "name": "stdout",
     "output_type": "stream",
     "text": [
      "8 55 7\n",
      "55\n",
      "8\n",
      "7\n",
      "\n",
      "8\n",
      "55\n",
      "7\n"
     ]
    }
   ],
   "source": [
    "# Simple Sort (time limit exeeded)\n",
    "x,y,z = map(int,input().split())\n",
    "\n",
    "a = x;\n",
    "b = y;\n",
    "c = z;\n",
    "if (a>b):\n",
    "    t = a\n",
    "    a = b\n",
    "    b = t\n",
    "if (q>r):\n",
    "    t = b\n",
    "    b = c\n",
    "    c = t\n",
    "if (a>q):\n",
    "    t = a\n",
    "    a = b\n",
    "    b = t\n",
    "print(f\"{a}\\n{b}\\n{c}\")\n",
    "print(f\"\\n{x}\\n{y}\\n{z}\")   "
   ]
  },
  {
   "cell_type": "code",
   "execution_count": 10,
   "id": "3e13033a",
   "metadata": {
    "collapsed": true
   },
   "outputs": [
    {
     "name": "stdout",
     "output_type": "stream",
     "text": [
      "4 33 -2\n",
      "-2\n",
      "4\n",
      "33\n",
      "\n",
      "4\n",
      "33\n",
      "-2\n"
     ]
    }
   ],
   "source": [
    "# Simple Sort\n",
    "x,y,z = map(int,input().split())\n",
    "list = [x,y,z]\n",
    "list.sort()\n",
    "print(f\"{list[0]}\\n{list[1]}\\n{list[2]}\")\n",
    "print(f\"\\n{x}\\n{y}\\n{z}\")"
   ]
  },
  {
   "cell_type": "code",
   "execution_count": 11,
   "id": "7bf886aa",
   "metadata": {
    "collapsed": true
   },
   "outputs": [
    {
     "name": "stdout",
     "output_type": "stream",
     "text": [
      "6.0 4.0 2.0\n",
      "Area = 10.0\n"
     ]
    }
   ],
   "source": [
    "# Triangle\n",
    "A,B,C = map(float,input().split())\n",
    "if (A+B)>C and (A+C)>B and (B+C)>A:\n",
    "    perimeter = (A+B+C)\n",
    "    print(f\"Perimetro = {perimeter:0.1f}\")\n",
    "else:\n",
    "    area = 0.5*(A+B)*C\n",
    "    print(f\"Area = {area:0.1f}\")"
   ]
  },
  {
   "cell_type": "code",
   "execution_count": 13,
   "id": "5a5f7f7f",
   "metadata": {
    "collapsed": true
   },
   "outputs": [
    {
     "name": "stdout",
     "output_type": "stream",
     "text": [
      "4 323\n",
      "Nao sao Multiplos\n"
     ]
    }
   ],
   "source": [
    "# Multiples\n",
    "A,B=map(int, input().split())\n",
    "if (A%B==0)or(B%A==0):\n",
    "    print(\"Sao Multiplos\")\n",
    "else:\n",
    "    print(\"Nao sao Multiplos\")"
   ]
  },
  {
   "cell_type": "code",
   "execution_count": 19,
   "id": "76953b77",
   "metadata": {
    "collapsed": true
   },
   "outputs": [
    {
     "name": "stdout",
     "output_type": "stream",
     "text": [
      "4.0 4.0 3.0\n",
      "TRIANGULO ACUTANGULO\n",
      "TRIANGULO ISOSCELES\n"
     ]
    }
   ],
   "source": [
    "# Triangle Types\n",
    "a,b,c=map(float,input().split())\n",
    "if(a < b):\n",
    "    t = a\n",
    "    a = b\n",
    "    b = t\n",
    "if(b < c):\n",
    "    t = b\n",
    "    b = c\n",
    "    c = t\n",
    "if(a < b):\n",
    "    t = a\n",
    "    a = b\n",
    "    b = t\n",
    "if(a>=(b+c)):\n",
    "    print(\"NAO FORMA TRIANGULO\")\n",
    "elif(a*a == (b*b+c*c)):\n",
    "     print(\"TRIANGULO RETANGULO\")\n",
    "elif(a * a > (b*b+ c*c)):\n",
    "    print(\"TRIANGULO OBTUSANGULO\")\n",
    "elif(a*a<(b*b + c*c)):\n",
    "    print(\"TRIANGULO ACUTANGULO\")\n",
    "if(a == b and b == c):\n",
    "        print(\"TRIANGULO EQUILATERO\")\n",
    "elif(a == b or b == c):\n",
    "        print(\"TRIANGULO ISOSCELES\")"
   ]
  },
  {
   "cell_type": "code",
   "execution_count": 20,
   "id": "413474c8",
   "metadata": {
    "collapsed": true
   },
   "outputs": [
    {
     "name": "stdout",
     "output_type": "stream",
     "text": [
      "16 2\n",
      "O JOGO DUROU 10 HORA(S)\n"
     ]
    }
   ],
   "source": [
    "# Game Time\n",
    "s,e = map(int,input().split())\n",
    "if(s<e):\n",
    "    time=e-s\n",
    "else:\n",
    "    time=e+24-s\n",
    "print(f\"O JOGO DUROU {time} HORA(S)\")"
   ]
  },
  {
   "cell_type": "code",
   "execution_count": 24,
   "id": "5d59c243",
   "metadata": {
    "collapsed": true
   },
   "outputs": [
    {
     "name": "stdout",
     "output_type": "stream",
     "text": [
      "7 7 7 7\n",
      "O JOGO DUROU 24 HORA(S) E 0 MINUTO(S)\n"
     ]
    }
   ],
   "source": [
    "# Game Time with Minutes\n",
    "initial_hour,initial_minute,final_hour,final_minute=map(int,input().split())\n",
    "\n",
    "d=((final_hour*60)+final_minute)-((initial_hour*60)+initial_minute)\n",
    "if(d<=0):\n",
    "    d+=24*60    \n",
    "time=d//60\n",
    "minute=d%60\n",
    "print(f\"O JOGO DUROU {time} HORA(S) E {minute} MINUTO(S)\")"
   ]
  },
  {
   "cell_type": "code",
   "execution_count": 25,
   "id": "95d92409",
   "metadata": {
    "collapsed": true
   },
   "outputs": [
    {
     "name": "stdout",
     "output_type": "stream",
     "text": [
      "400\n",
      "Novo salario: 460.00\n",
      "Reajuste ganho: 60.00\n",
      "Em percentual: 15 %\n"
     ]
    }
   ],
   "source": [
    "# Salary Increase\n",
    "a = float(input())\n",
    "if(a>=0 and a<=400):\n",
    "    b= a*0.15\n",
    "    c=a+b\n",
    "    d=15\n",
    "elif(a>=400.01 and a<=800.00):\n",
    "    b=a*0.12\n",
    "    c=a+b\n",
    "    d=12\n",
    "elif(a>=800.01 and a<=1200.00):\n",
    "    b=a*0.1\n",
    "    c=a+b\n",
    "    d=10\n",
    "elif(a>=1200.01 and a<=2000.00):\n",
    "    b=a*0.07\n",
    "    c=a+b\n",
    "    d=7\n",
    "elif(a>2000):\n",
    "    b=a*0.04\n",
    "    c=a+b\n",
    "    d=4\n",
    "print(f\"Novo salario: {c:.2f}\")\n",
    "print(f\"Reajuste ganho: {b:.2f}\")\n",
    "print(f\"Em percentual: {d} %\")"
   ]
  },
  {
   "cell_type": "code",
   "execution_count": 26,
   "id": "570e47cc",
   "metadata": {
    "collapsed": true
   },
   "outputs": [
    {
     "name": "stdout",
     "output_type": "stream",
     "text": [
      "vertebrado\n",
      "mamifero\n",
      "onivoro\n",
      "homem\n"
     ]
    }
   ],
   "source": [
    "# Animal\n",
    "x = input()\n",
    "y = input()\n",
    "z = input()\n",
    "\n",
    "if x == 'vertebrado' and y == 'ave' and z == 'carnivoro':\n",
    "    animal = 'aguia'\n",
    "if x == 'vertebrado' and y == 'ave' and z == 'onivoro':\n",
    "    animal = 'pomba'\n",
    "\n",
    "if x == 'vertebrado' and y == 'mamifero' and z == 'onivoro':\n",
    "    animal = 'homem'\n",
    "\n",
    "if x == 'vertebrado' and y == 'mamifero' and z == 'herbivoro':\n",
    "    animal = 'vaca'\n",
    "\n",
    "if x == 'invertebrado' and y == 'inseto' and z == 'hematofago':\n",
    "    animal = 'pulga'\n",
    "\n",
    "if x == 'invertebrado' and y == 'inseto' and z == 'herbivoro':\n",
    "    animal = 'lagarta'\n",
    "\n",
    "if x == 'invertebrado' and y == 'anelideo' and z == 'hematofago':\n",
    "    animal = 'sanguessuga'\n",
    "\n",
    "if x == 'invertebrado' and y == 'anelideo' and z == 'onivoro':\n",
    "    animal = 'minhoca'\n",
    "\n",
    "print(animal)"
   ]
  },
  {
   "cell_type": "code",
   "execution_count": 27,
   "id": "bd67030e",
   "metadata": {
    "collapsed": true
   },
   "outputs": [
    {
     "name": "stdout",
     "output_type": "stream",
     "text": [
      "11\n",
      "Sao Paulo\n"
     ]
    }
   ],
   "source": [
    "# DDD\n",
    "a=int(input())\n",
    "if a==61:\n",
    "    print(\"Brasilia\")\n",
    "elif a==71:\n",
    "    print(\"Salvador\")\n",
    "elif a==11:\n",
    "    print(\"Sao Paulo\")\n",
    "elif a==21:\n",
    "    print(\"Rio de Janeiro\")\n",
    "elif a==32:\n",
    "    print(\"Juiz de Fora\")\n",
    "elif a==19:\n",
    "    print(\"Campinas\")\n",
    "elif a==27:\n",
    "    print(\"Vitoria\")\n",
    "elif a==31:\n",
    "    print(\"Belo Horizonte\")\n",
    "else:\n",
    "    print(\"DDD nao cadastrado\")"
   ]
  },
  {
   "cell_type": "code",
   "execution_count": 30,
   "id": "03228abd",
   "metadata": {},
   "outputs": [
    {
     "name": "stdout",
     "output_type": "stream",
     "text": [
      "1701.12\n",
      "Isento\n"
     ]
    }
   ],
   "source": [
    "# Taxes\n",
    "salary = float(input())\n",
    "\n",
    "if(salary > 0 and salary <= 2000):\n",
    " print(f\"Isento\")\n",
    "elif(salary > 2000 and salary <= 3000):\n",
    " resto = salary - 2000\n",
    " resultado = resto * 0.08\n",
    " print(f\"R$ {resultado:0.2f}\")\n",
    "elif(salary > 3000 and salary < 4500):\n",
    " resto = salary - 3000\n",
    " resultado = (resto * 0.18) + (1000 * 0.08)\n",
    " print(f\"R$ {resultado:0.2f}\")\n",
    "else:\n",
    " resto = salary - 4500\n",
    " resultado = (resto * 0.28) + (1500 * 0.18) + (1000 * 0.08)\n",
    " print(f\"R$ {resultado:0.2f}\")"
   ]
  },
  {
   "cell_type": "code",
   "execution_count": 29,
   "id": "99db01e4",
   "metadata": {},
   "outputs": [
    {
     "name": "stdout",
     "output_type": "stream",
     "text": [
      "5\n",
      "May\n"
     ]
    }
   ],
   "source": [
    "# Month\n",
    "x=int(input())\n",
    "if(x==1):\n",
    "    print(\"January\")\n",
    "elif(x==2):\n",
    "    print(\"February\")\n",
    "elif(x==3):\n",
    "    print(\"March\")\n",
    "elif(x==4):\n",
    "    print(\"April\")\n",
    "elif(x==5):\n",
    "    print(\"May\")\n",
    "elif(x==6):\n",
    "    print(\"June\")\n",
    "elif(x==7):\n",
    "    print(\"July\")\n",
    "elif(x==8):\n",
    "    print(\"August\")\n",
    "elif(x==9):\n",
    "    print(\"September\")\n",
    "elif(x==10):\n",
    "    print(\"October\")\n",
    "elif(x==11):\n",
    "    print(\"November\")\n",
    "elif(x==12):\n",
    "    print(\"December\")"
   ]
  },
  {
   "cell_type": "code",
   "execution_count": 31,
   "id": "8d4bee65",
   "metadata": {
    "collapsed": true
   },
   "outputs": [
    {
     "name": "stdout",
     "output_type": "stream",
     "text": [
      "2\n",
      "4\n",
      "6\n",
      "8\n",
      "10\n",
      "12\n",
      "14\n",
      "16\n",
      "18\n",
      "20\n",
      "22\n",
      "24\n",
      "26\n",
      "28\n",
      "30\n",
      "32\n",
      "34\n",
      "36\n",
      "38\n",
      "40\n",
      "42\n",
      "44\n",
      "46\n",
      "48\n",
      "50\n",
      "52\n",
      "54\n",
      "56\n",
      "58\n",
      "60\n",
      "62\n",
      "64\n",
      "66\n",
      "68\n",
      "70\n",
      "72\n",
      "74\n",
      "76\n",
      "78\n",
      "80\n",
      "82\n",
      "84\n",
      "86\n",
      "88\n",
      "90\n",
      "92\n",
      "94\n",
      "96\n",
      "98\n",
      "100\n"
     ]
    }
   ],
   "source": [
    "# Even Numbers\n",
    "a, b = 1, 100\n",
    "for num in range(a, b + 1):\n",
    "   # check\n",
    "   if num % 2 == 0:\n",
    "      print(num)"
   ]
  },
  {
   "cell_type": "code",
   "execution_count": 33,
   "id": "6767ef31",
   "metadata": {
    "collapsed": true
   },
   "outputs": [
    {
     "name": "stdout",
     "output_type": "stream",
     "text": [
      "3\n",
      "6\n",
      "-3\n",
      "-5\n",
      "-6\n",
      "0\n",
      "2 valores positivos\n"
     ]
    }
   ],
   "source": [
    "# Positive Numbers\n",
    "count = 0\n",
    "for i in range(6):\n",
    "    nums = float(input())\n",
    "    if(nums>0):\n",
    "        count+=1\n",
    "print(f'{count} valores positivos')"
   ]
  },
  {
   "cell_type": "code",
   "execution_count": 34,
   "id": "ab8edd2c",
   "metadata": {
    "collapsed": true
   },
   "outputs": [
    {
     "name": "stdout",
     "output_type": "stream",
     "text": [
      "4\n",
      "0\n",
      "3\n",
      "-5\n",
      "23\n",
      "9\n",
      "4 valores positivos\n",
      "9.8\n"
     ]
    }
   ],
   "source": [
    "# Positives and Average\n",
    "count=0\n",
    "sum=0.0\n",
    "for i in range(1,7):\n",
    "    n = float(input())\n",
    "    if(n>0):\n",
    "        sum = sum + n\n",
    "        count=count+1\n",
    "average = sum/count\n",
    "print(f\"{count} valores positivos\")\n",
    "print(f\"{average:0.1f}\")"
   ]
  },
  {
   "cell_type": "code",
   "execution_count": 36,
   "id": "8d50f93e",
   "metadata": {
    "collapsed": true
   },
   "outputs": [
    {
     "name": "stdout",
     "output_type": "stream",
     "text": [
      "4\n",
      "6\n",
      "3\n",
      "2\n",
      "2\n",
      "4 valores pares\n"
     ]
    }
   ],
   "source": [
    "# Even Between five Numbers\n",
    "count=0\n",
    "for i in range(5):\n",
    "    n = float(input())\n",
    "    if(n%2==0):\n",
    "        count=count+1\n",
    "print(f\"{count} valores pares\")"
   ]
  },
  {
   "cell_type": "code",
   "execution_count": 37,
   "id": "48f4b356",
   "metadata": {
    "collapsed": true
   },
   "outputs": [
    {
     "name": "stdout",
     "output_type": "stream",
     "text": [
      "4\n",
      "6\n",
      "9\n",
      "3\n",
      "5\n",
      "2 valor(es) par(es)\n",
      "3 valor(es) impar(es)\n",
      "5 valor(es) positivo(s)\n",
      "0 valor(es) negativo(s)\n"
     ]
    }
   ],
   "source": [
    "# Even, Odd, Positive and Negative\n",
    "even=0\n",
    "odd=0\n",
    "positive=0\n",
    "negative=0\n",
    "for i in range(5):\n",
    "    n = float(input())\n",
    "    if(n % 2 == 0):\n",
    "         even = even+1\n",
    "    else:\n",
    "        odd =odd+1\n",
    "    if (n > 0):\n",
    "        positive =positive+1\n",
    "    elif (n < 0):\n",
    "        negative =negative+1\n",
    "print(f\"{even} valor(es) par(es)\")\n",
    "print(f\"{odd} valor(es) impar(es)\")\n",
    "print(f\"{positive} valor(es) positivo(s)\")\n",
    "print(f\"{negative} valor(es) negativo(s)\")"
   ]
  },
  {
   "cell_type": "code",
   "execution_count": 38,
   "id": "c1303967",
   "metadata": {
    "collapsed": true
   },
   "outputs": [
    {
     "name": "stdout",
     "output_type": "stream",
     "text": [
      "8\n",
      "1\n",
      "3\n",
      "5\n",
      "7\n"
     ]
    }
   ],
   "source": [
    "# Odd Numbers\n",
    "number = int(input())\n",
    "for i in range(number+1):\n",
    "    if(i%2==1):\n",
    "        print(i)"
   ]
  },
  {
   "cell_type": "code",
   "execution_count": 39,
   "id": "5dd7d76e",
   "metadata": {
    "collapsed": true
   },
   "outputs": [
    {
     "name": "stdout",
     "output_type": "stream",
     "text": [
      "8\n",
      "9\n",
      "11\n",
      "13\n",
      "15\n",
      "17\n",
      "19\n"
     ]
    }
   ],
   "source": [
    "# Six Odd Numbers\n",
    "number=int(input())\n",
    "i=0\n",
    "while(i<6):\n",
    "    if(number%2!=0):\n",
    "        print(number)\n",
    "        i=i+1\n",
    "    number=number+1"
   ]
  },
  {
   "cell_type": "code",
   "execution_count": 40,
   "id": "6b7bd550",
   "metadata": {
    "collapsed": true
   },
   "outputs": [
    {
     "name": "stdout",
     "output_type": "stream",
     "text": [
      "6\n",
      "-5\n",
      "5\n"
     ]
    }
   ],
   "source": [
    "# Sum of Consecutive Odd Numbers I\n",
    "X = int(input())\n",
    "Y = int(input())\n",
    "\n",
    "start = min(X,Y)+1\n",
    "end = max(X,Y)\n",
    "\n",
    "if start % 2 == 0:\n",
    "    start += 1\n",
    "\n",
    "sum = 0\n",
    "for i in range(start, end, 2):\n",
    "    sum += i\n",
    "print(sum)"
   ]
  },
  {
   "cell_type": "code",
   "execution_count": 41,
   "id": "b1f45f6c",
   "metadata": {
    "collapsed": true
   },
   "outputs": [
    {
     "name": "stdout",
     "output_type": "stream",
     "text": [
      "4\n",
      "14\n",
      "123\n",
      "10\n",
      "-25\n",
      "2 in\n",
      "2 out\n"
     ]
    }
   ],
   "source": [
    "# Interval 2\n",
    "X=int(input())\n",
    "inn=0\n",
    "out=0\n",
    "for i in range(0,X):\n",
    "    N=int(input())\n",
    "    if(10<=N<=20):\n",
    "        inn+=1\n",
    "    else:\n",
    "        out+=1\n",
    "print(f\"{inn} in\")\n",
    "print(f\"{out} out\")"
   ]
  },
  {
   "cell_type": "code",
   "execution_count": 42,
   "id": "def61e74",
   "metadata": {
    "collapsed": true
   },
   "outputs": [
    {
     "name": "stdout",
     "output_type": "stream",
     "text": [
      "6\n",
      "2^2 = 4\n",
      "4^2 = 16\n",
      "6^2 = 36\n"
     ]
    }
   ],
   "source": [
    "# Even Square\n",
    "n= int(input())\n",
    "for i in range(1,n+1):\n",
    "    if(i%2==0):\n",
    "        print(f\"{i}^2 = {pow(i,2)}\")"
   ]
  },
  {
   "cell_type": "code",
   "execution_count": 43,
   "id": "d4b4817f",
   "metadata": {},
   "outputs": [
    {
     "name": "stdout",
     "output_type": "stream",
     "text": [
      "Dia 5\n",
      "08:12:23\n",
      "Dia 9\n",
      "06:13:23\n",
      "3 dia(s)\n",
      "22 hora(s)\n",
      "1 minuto(s)\n",
      "0 segundo(s)\n"
     ]
    }
   ],
   "source": [
    "# Event Time\n",
    "dia,date1=input().split()\n",
    "date1 = int(date1)\n",
    "h1,m1,s1=map(int,input().split(\":\"))\n",
    "\n",
    "dia,date2=input().split()\n",
    "date2 = int(date2)\n",
    "h2,m2,s2=map(int,input().split(\":\"))\n",
    "\n",
    "s = s2 - s1\n",
    "m = m2 - m1\n",
    "h = h2 - h1\n",
    "d = date2 - date1\n",
    "\n",
    "if(s<0):\n",
    "    s+=60\n",
    "    m-=1\n",
    "\n",
    "if(m<0):\n",
    "    m+=60\n",
    "    h-=1\n",
    "\n",
    "if(h<0):\n",
    "    h+=24\n",
    "    d-=1\n",
    "\n",
    "print(f\"{d} dia(s)\")\n",
    "print(f\"{h} hora(s)\")\n",
    "print(f\"{m} minuto(s)\")\n",
    "print(f\"{s} segundo(s)\")"
   ]
  },
  {
   "cell_type": "code",
   "execution_count": null,
   "id": "59e68cd0",
   "metadata": {},
   "outputs": [],
   "source": []
  }
 ],
 "metadata": {
  "kernelspec": {
   "display_name": "Python 3 (ipykernel)",
   "language": "python",
   "name": "python3"
  },
  "language_info": {
   "codemirror_mode": {
    "name": "ipython",
    "version": 3
   },
   "file_extension": ".py",
   "mimetype": "text/x-python",
   "name": "python",
   "nbconvert_exporter": "python",
   "pygments_lexer": "ipython3",
   "version": "3.9.7"
  }
 },
 "nbformat": 4,
 "nbformat_minor": 5
}
